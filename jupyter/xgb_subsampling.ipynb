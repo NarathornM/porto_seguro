{
 "cells": [
  {
   "cell_type": "code",
   "execution_count": 1,
   "metadata": {},
   "outputs": [
    {
     "name": "stdout",
     "output_type": "stream",
     "text": [
      "E:\\gdrive\\Projects\\Porto_Seguro\\stacking\n"
     ]
    }
   ],
   "source": [
    "cd .."
   ]
  },
  {
   "cell_type": "code",
   "execution_count": 17,
   "metadata": {},
   "outputs": [],
   "source": [
    "from utils import utils, gini, xgb_fn\n",
    "\n",
    "import xgboost as xgb\n",
    "import pandas as pd\n",
    "import numpy as np\n",
    "\n",
    "from sklearn.model_selection import StratifiedKFold"
   ]
  },
  {
   "cell_type": "code",
   "execution_count": 3,
   "metadata": {},
   "outputs": [],
   "source": [
    "params_xgb_depth_5 = {}\n",
    "params_xgb_depth_5['tree_method']= 'hist'\n",
    "params_xgb_depth_5['silent']= True \n",
    "params_xgb_depth_5['eval_metric']= 'auc'\n",
    "params_xgb_depth_5['objective']= 'binary:logistic'\n",
    "params_xgb_depth_5['eta']= 0.01\n",
    "params_xgb_depth_5['max_depth']= 5\n",
    "params_xgb_depth_5['gamma']= 0.3\n",
    "params_xgb_depth_5['min_child_weight']= 7\n",
    "params_xgb_depth_5['subsample']= 0.7 \n",
    "params_xgb_depth_5['colsample_bytree']= 0.6\n",
    "params_xgb_depth_5['max_delta_step']= 5"
   ]
  },
  {
   "cell_type": "code",
   "execution_count": 6,
   "metadata": {},
   "outputs": [],
   "source": [
    "combined = utils.load_data()\n",
    "combined = utils.drop_stupid(combined)\n",
    "combined = utils.cat_transform(combined, 'onehot')\n",
    "train, test = utils.recover_train_test_na(combined, fillna=True)"
   ]
  },
  {
   "cell_type": "code",
   "execution_count": 7,
   "metadata": {},
   "outputs": [],
   "source": [
    "y = pd.read_csv('data/train.csv').target"
   ]
  },
  {
   "cell_type": "code",
   "execution_count": 8,
   "metadata": {},
   "outputs": [],
   "source": [
    "X = train.drop('target', axis=1)\n",
    "y = train.target"
   ]
  },
  {
   "cell_type": "code",
   "execution_count": 9,
   "metadata": {},
   "outputs": [
    {
     "name": "stdout",
     "output_type": "stream",
     "text": [
      "sub_sampling_set: 1 length: 43388\n",
      "sub_sampling_set: 2 length: 43388\n",
      "sub_sampling_set: 3 length: 43388\n",
      "sub_sampling_set: 4 length: 43388\n",
      "sub_sampling_set: 5 length: 43388\n",
      "sub_sampling_set: 6 length: 43388\n",
      "sub_sampling_set: 7 length: 43388\n",
      "sub_sampling_set: 8 length: 43388\n",
      "sub_sampling_set: 9 length: 43388\n",
      "sub_sampling_set: 10 length: 43388\n",
      "sub_sampling_set: 11 length: 43388\n",
      "sub_sampling_set: 12 length: 43388\n",
      "sub_sampling_set: 13 length: 43388\n",
      "sub_sampling_set: 14 length: 43388\n",
      "sub_sampling_set: 15 length: 43388\n",
      "sub_sampling_set: 16 length: 43388\n",
      "sub_sampling_set: 17 length: 43388\n",
      "sub_sampling_set: 18 length: 43388\n",
      "sub_sampling_set: 19 length: 43388\n",
      "sub_sampling_set: 20 length: 43388\n",
      "sub_sampling_set: 21 length: 43388\n",
      "sub_sampling_set: 22 length: 43388\n",
      "sub_sampling_set: 23 length: 43388\n",
      "sub_sampling_set: 24 length: 43388\n",
      "sub_sampling_set: 25 length: 43388\n",
      "sub_sampling_set: 26 length: 43388\n"
     ]
    }
   ],
   "source": [
    "sub_sample = {}\n",
    "neg_train = train[train.target==0]\n",
    "pos_index = train[train.target==1].index\n",
    "for i in range(26):\n",
    "    neg_index = neg_train.sample(n=21694, random_state=88).index\n",
    "    neg_train = neg_train.drop(neg_index)\n",
    "    sub_sample[str(i)] = np.concatenate((pos_index, neg_index))\n",
    "    np.random.shuffle(sub_sample[str(i)])\n",
    "    print('sub_sampling_set: {} length: {}'.format(i+1,len(sub_sample[str(i)])))"
   ]
  },
  {
   "cell_type": "code",
   "execution_count": 85,
   "metadata": {
    "scrolled": true
   },
   "outputs": [
    {
     "data": {
      "text/plain": [
       "34710"
      ]
     },
     "execution_count": 85,
     "metadata": {},
     "output_type": "execute_result"
    }
   ],
   "source": [
    "len(train_id)"
   ]
  },
  {
   "cell_type": "code",
   "execution_count": 86,
   "metadata": {
    "scrolled": true
   },
   "outputs": [
    {
     "name": "stdout",
     "output_type": "stream",
     "text": [
      "Starting Lap1\n",
      "[Fold 1/5 Gini score: 0.278109]\n",
      "[Fold 2/5 Gini score: 0.27361]\n",
      "[Fold 3/5 Gini score: 0.268049]\n",
      "[Fold 4/5 Gini score: 0.282877]\n",
      "[Fold 5/5 Gini score: 0.277852]\n",
      "Starting Lap2\n",
      "[Fold 1/5 Gini score: 0.278336]\n",
      "[Fold 2/5 Gini score: 0.294458]\n",
      "[Fold 3/5 Gini score: 0.290011]\n",
      "[Fold 4/5 Gini score: 0.292839]\n",
      "[Fold 5/5 Gini score: 0.274037]\n",
      "Starting Lap3\n",
      "[Fold 1/5 Gini score: 0.263516]\n",
      "[Fold 2/5 Gini score: 0.283421]\n",
      "[Fold 3/5 Gini score: 0.281438]\n",
      "[Fold 4/5 Gini score: 0.27279]\n",
      "[Fold 5/5 Gini score: 0.267812]\n",
      "Starting Lap4\n",
      "[Fold 1/5 Gini score: 0.297002]\n",
      "[Fold 2/5 Gini score: 0.280562]\n",
      "[Fold 3/5 Gini score: 0.278049]\n",
      "[Fold 4/5 Gini score: 0.265694]\n",
      "[Fold 5/5 Gini score: 0.270823]\n",
      "Starting Lap5\n",
      "[Fold 1/5 Gini score: 0.286512]\n",
      "[Fold 2/5 Gini score: 0.261136]\n",
      "[Fold 3/5 Gini score: 0.283706]\n",
      "[Fold 4/5 Gini score: 0.272767]\n",
      "[Fold 5/5 Gini score: 0.286966]\n",
      "Starting Lap6\n",
      "[Fold 1/5 Gini score: 0.26545]\n",
      "[Fold 2/5 Gini score: 0.277613]\n",
      "[Fold 3/5 Gini score: 0.279369]\n",
      "[Fold 4/5 Gini score: 0.286386]\n",
      "[Fold 5/5 Gini score: 0.284424]\n",
      "Starting Lap7\n",
      "[Fold 1/5 Gini score: 0.295581]\n",
      "[Fold 2/5 Gini score: 0.277759]\n",
      "[Fold 3/5 Gini score: 0.274338]\n",
      "[Fold 4/5 Gini score: 0.278542]\n",
      "[Fold 5/5 Gini score: 0.279823]\n",
      "Starting Lap8\n",
      "[Fold 1/5 Gini score: 0.275474]\n",
      "[Fold 2/5 Gini score: 0.296835]\n",
      "[Fold 3/5 Gini score: 0.287217]\n",
      "[Fold 4/5 Gini score: 0.25245]\n",
      "[Fold 5/5 Gini score: 0.288464]\n",
      "Starting Lap9\n",
      "[Fold 1/5 Gini score: 0.284865]\n",
      "[Fold 2/5 Gini score: 0.258089]\n",
      "[Fold 3/5 Gini score: 0.282131]\n",
      "[Fold 4/5 Gini score: 0.287366]\n",
      "[Fold 5/5 Gini score: 0.263808]\n",
      "Starting Lap10\n",
      "[Fold 1/5 Gini score: 0.273728]\n",
      "[Fold 2/5 Gini score: 0.282383]\n",
      "[Fold 3/5 Gini score: 0.288584]\n",
      "[Fold 4/5 Gini score: 0.273437]\n",
      "[Fold 5/5 Gini score: 0.271478]\n",
      "Starting Lap11\n",
      "[Fold 1/5 Gini score: 0.277524]\n",
      "[Fold 2/5 Gini score: 0.288738]\n",
      "[Fold 3/5 Gini score: 0.270133]\n",
      "[Fold 4/5 Gini score: 0.265471]\n",
      "[Fold 5/5 Gini score: 0.30283]\n",
      "Starting Lap12\n",
      "[Fold 1/5 Gini score: 0.271571]\n",
      "[Fold 2/5 Gini score: 0.269117]\n",
      "[Fold 3/5 Gini score: 0.275672]\n",
      "[Fold 4/5 Gini score: 0.294068]\n",
      "[Fold 5/5 Gini score: 0.274179]\n",
      "Starting Lap13\n",
      "[Fold 1/5 Gini score: 0.286679]\n",
      "[Fold 2/5 Gini score: 0.271239]\n",
      "[Fold 3/5 Gini score: 0.249028]\n",
      "[Fold 4/5 Gini score: 0.270544]\n",
      "[Fold 5/5 Gini score: 0.26907]\n",
      "Starting Lap14\n",
      "[Fold 1/5 Gini score: 0.28124]\n",
      "[Fold 2/5 Gini score: 0.272978]\n",
      "[Fold 3/5 Gini score: 0.266711]\n",
      "[Fold 4/5 Gini score: 0.279255]\n",
      "[Fold 5/5 Gini score: 0.288083]\n",
      "Starting Lap15\n",
      "[Fold 1/5 Gini score: 0.279904]\n",
      "[Fold 2/5 Gini score: 0.292598]\n",
      "[Fold 3/5 Gini score: 0.297778]\n",
      "[Fold 4/5 Gini score: 0.28787]\n",
      "[Fold 5/5 Gini score: 0.270383]\n",
      "Starting Lap16\n",
      "[Fold 1/5 Gini score: 0.289661]\n",
      "[Fold 2/5 Gini score: 0.26689]\n",
      "[Fold 3/5 Gini score: 0.288094]\n",
      "[Fold 4/5 Gini score: 0.269248]\n",
      "[Fold 5/5 Gini score: 0.283521]\n",
      "Starting Lap17\n",
      "[Fold 1/5 Gini score: 0.281496]\n",
      "[Fold 2/5 Gini score: 0.275057]\n",
      "[Fold 3/5 Gini score: 0.271403]\n",
      "[Fold 4/5 Gini score: 0.265717]\n",
      "[Fold 5/5 Gini score: 0.294115]\n",
      "Starting Lap18\n",
      "[Fold 1/5 Gini score: 0.298907]\n",
      "[Fold 2/5 Gini score: 0.261811]\n",
      "[Fold 3/5 Gini score: 0.286059]\n",
      "[Fold 4/5 Gini score: 0.300296]\n",
      "[Fold 5/5 Gini score: 0.275615]\n",
      "Starting Lap19\n",
      "[Fold 1/5 Gini score: 0.294523]\n",
      "[Fold 2/5 Gini score: 0.282179]\n",
      "[Fold 3/5 Gini score: 0.263818]\n",
      "[Fold 4/5 Gini score: 0.281141]\n",
      "[Fold 5/5 Gini score: 0.289233]\n",
      "Starting Lap20\n",
      "[Fold 1/5 Gini score: 0.282269]\n",
      "[Fold 2/5 Gini score: 0.28953]\n",
      "[Fold 3/5 Gini score: 0.271443]\n",
      "[Fold 4/5 Gini score: 0.275429]\n",
      "[Fold 5/5 Gini score: 0.26255]\n",
      "Starting Lap21\n",
      "[Fold 1/5 Gini score: 0.302069]\n",
      "[Fold 2/5 Gini score: 0.268726]\n",
      "[Fold 3/5 Gini score: 0.282859]\n",
      "[Fold 4/5 Gini score: 0.268347]\n",
      "[Fold 5/5 Gini score: 0.283706]\n",
      "Starting Lap22\n",
      "[Fold 1/5 Gini score: 0.264758]\n",
      "[Fold 2/5 Gini score: 0.278168]\n",
      "[Fold 3/5 Gini score: 0.263967]\n",
      "[Fold 4/5 Gini score: 0.280736]\n",
      "[Fold 5/5 Gini score: 0.284704]\n",
      "Starting Lap23\n",
      "[Fold 1/5 Gini score: 0.278263]\n",
      "[Fold 2/5 Gini score: 0.302898]\n",
      "[Fold 3/5 Gini score: 0.283882]\n",
      "[Fold 4/5 Gini score: 0.299199]\n",
      "[Fold 5/5 Gini score: 0.246852]\n",
      "Starting Lap24\n",
      "[Fold 1/5 Gini score: 0.293939]\n",
      "[Fold 2/5 Gini score: 0.272684]\n",
      "[Fold 3/5 Gini score: 0.286989]\n",
      "[Fold 4/5 Gini score: 0.271609]\n",
      "[Fold 5/5 Gini score: 0.266]\n",
      "Starting Lap25\n",
      "[Fold 1/5 Gini score: 0.261189]\n",
      "[Fold 2/5 Gini score: 0.286178]\n",
      "[Fold 3/5 Gini score: 0.273064]\n",
      "[Fold 4/5 Gini score: 0.263552]\n",
      "[Fold 5/5 Gini score: 0.285503]\n",
      "Starting Lap26\n",
      "[Fold 1/5 Gini score: 0.29029]\n",
      "[Fold 2/5 Gini score: 0.273466]\n",
      "[Fold 3/5 Gini score: 0.281238]\n",
      "[Fold 4/5 Gini score: 0.268321]\n",
      "[Fold 5/5 Gini score: 0.265586]\n"
     ]
    }
   ],
   "source": [
    "n_model = len(sub_sample)\n",
    "n_folds = 5\n",
    "oof_train = np.zeros((X.shape[0],))\n",
    "oof_test = np.zeros((test.shape[0],))\n",
    "rest_id = neg_train.index\n",
    "xg_test = xgb.DMatrix(test)\n",
    "xg_rest = xgb.DMatrix(X.iloc[rest_id,:])\n",
    "\n",
    "for i in range(n_model):\n",
    "    print('Starting Lap{}'.format(i+1))\n",
    "    train_sample = sub_sample[str(i)]\n",
    "    X_train = X.iloc[train_sample,:]\n",
    "    y_train = y[train_sample]\n",
    "    cross_val = StratifiedKFold(n_splits=n_folds, shuffle=False)\n",
    "    avg_score=0\n",
    "    \n",
    "    for i, (train_index, val_index) in enumerate(cross_val.split(X_train, y_train)):\n",
    "        \n",
    "        train_id, val_id = train_sample[train_index], train_sample[val_index]\n",
    "        X_train.reset_index(drop=True, inplace=True)\n",
    "        y_train.reset_index(drop=True, inplace=True)\n",
    "        X_tr, X_val = X_train.iloc[train_index,:], X_train.iloc[val_index,:]\n",
    "        y_tr, y_val = y_train[train_index], y_train[val_index]\n",
    "\n",
    "        y0_id = y_val[y_val==0]\n",
    "        y1_id = y_val[y_val==1]\n",
    "        val0_id = val_id[y0_id]\n",
    "        val1_id = val_id[y1_id]\n",
    "        \n",
    "        xg_val0 = xgb.DMatrix(X_val.iloc[y0_id,:])\n",
    "        xg_val1 = xgb.DMatrix(X_val.iloc[y1_id,:])\n",
    "\n",
    "        # Set Var for XGB\n",
    "        xg_train = xgb.DMatrix(X_tr, label=y_tr)\n",
    "        xg_val = xgb.DMatrix(X_val, label=y_val)\n",
    "\n",
    "        watchlist = [(xg_train, 'train'), (xg_val, 'test')]\n",
    "        # train xgb\n",
    "        xgb_skf = xgb.train(params_xgb_depth_5, xg_train, 10000, watchlist, early_stopping_rounds=100,\n",
    "                            feval=gini.gini_xgb, maximize=True, verbose_eval=False)\n",
    "        avg_score += xgb_skf.best_score / n_folds\n",
    "        oof_train[val0_id] = xgb_skf.predict(xg_val0)\n",
    "        oof_train[val1_id] += xgb_skf.predict(xg_val1) / 26\n",
    "        oof_train[rest_id] += xgb_skf.predict(xg_rest) / 26\n",
    "        oof_test += (xgb_skf.predict(xg_test)/n_folds) / 26\n",
    "\n",
    "        print('[Fold {}/{} Gini score: {}]'.format(i+1, n_folds, xgb_skf.best_score))"
   ]
  },
  {
   "cell_type": "code",
   "execution_count": 10,
   "metadata": {},
   "outputs": [],
   "source": [
    "pd.DataFrame({'xgb_26': oof_test}).to_csv('oof/xgb_26_test', index=False)"
   ]
  },
  {
   "cell_type": "code",
   "execution_count": 56,
   "metadata": {},
   "outputs": [
    {
     "data": {
      "text/plain": [
       "-0.010404305072809461"
      ]
     },
     "execution_count": 56,
     "metadata": {},
     "output_type": "execute_result"
    }
   ],
   "source": [
    "gini.gini_sklearn(y, oof_train)"
   ]
  },
  {
   "cell_type": "code",
   "execution_count": 67,
   "metadata": {},
   "outputs": [
    {
     "data": {
      "text/plain": [
       "<function ndarray.item>"
      ]
     },
     "execution_count": 67,
     "metadata": {},
     "output_type": "execute_result"
    }
   ],
   "source": [
    "oof_train.item"
   ]
  },
  {
   "cell_type": "code",
   "execution_count": 20,
   "metadata": {},
   "outputs": [
    {
     "data": {
      "text/plain": [
       "26"
      ]
     },
     "execution_count": 20,
     "metadata": {},
     "output_type": "execute_result"
    }
   ],
   "source": [
    "n_model"
   ]
  },
  {
   "cell_type": "code",
   "execution_count": null,
   "metadata": {},
   "outputs": [],
   "source": []
  }
 ],
 "metadata": {
  "kernelspec": {
   "display_name": "Python 3",
   "language": "python",
   "name": "python3"
  },
  "language_info": {
   "codemirror_mode": {
    "name": "ipython",
    "version": 3
   },
   "file_extension": ".py",
   "mimetype": "text/x-python",
   "name": "python",
   "nbconvert_exporter": "python",
   "pygments_lexer": "ipython3",
   "version": "3.6.2"
  }
 },
 "nbformat": 4,
 "nbformat_minor": 2
}
