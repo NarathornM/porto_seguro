{
 "cells": [
  {
   "cell_type": "code",
   "execution_count": 2,
   "metadata": {},
   "outputs": [
    {
     "name": "stdout",
     "output_type": "stream",
     "text": [
      "E:\\gdrive\\Projects\\Porto_Seguro\\stacking\n"
     ]
    }
   ],
   "source": [
    "cd .."
   ]
  },
  {
   "cell_type": "code",
   "execution_count": 3,
   "metadata": {},
   "outputs": [],
   "source": [
    "from utils import layer1\n",
    "from utils.layer2 import get_meta_features\n",
    "from utils.gini import *\n",
    "from utils.utils import *\n",
    "\n",
    "from matplotlib import pyplot as plt\n",
    "%matplotlib inline\n",
    "import seaborn as sns"
   ]
  },
  {
   "cell_type": "code",
   "execution_count": 4,
   "metadata": {},
   "outputs": [],
   "source": [
    "train = pd.read_csv('data/train.csv', na_values=-1)"
   ]
  },
  {
   "cell_type": "code",
   "execution_count": 7,
   "metadata": {},
   "outputs": [
    {
     "data": {
      "text/plain": [
       "0         0.88\n",
       "1         0.62\n",
       "2         0.64\n",
       "3         0.54\n",
       "4         0.57\n",
       "5         0.88\n",
       "6         0.64\n",
       "7         0.90\n",
       "8         0.78\n",
       "9         1.46\n",
       "10        0.88\n",
       "11        0.95\n",
       "12        0.77\n",
       "13        0.98\n",
       "14        0.57\n",
       "15        1.72\n",
       "16        0.76\n",
       "17        0.88\n",
       "18        0.67\n",
       "19        0.46\n",
       "20        0.57\n",
       "21        0.58\n",
       "22        0.98\n",
       "23        0.73\n",
       "24        0.72\n",
       "25        0.89\n",
       "26        1.31\n",
       "27        0.68\n",
       "28        0.72\n",
       "29        0.64\n",
       "          ... \n",
       "595182    0.73\n",
       "595183    0.70\n",
       "595184    0.66\n",
       "595185    0.78\n",
       "595186    0.85\n",
       "595187    0.70\n",
       "595188    0.80\n",
       "595189    0.69\n",
       "595190    0.51\n",
       "595191    0.93\n",
       "595192    0.79\n",
       "595193    1.08\n",
       "595194    0.71\n",
       "595195    1.02\n",
       "595196    0.69\n",
       "595197    0.90\n",
       "595198    0.84\n",
       "595199    1.06\n",
       "595200    0.79\n",
       "595201    0.61\n",
       "595202    0.74\n",
       "595203    1.14\n",
       "595204    0.80\n",
       "595205    0.60\n",
       "595206    0.90\n",
       "595207    0.68\n",
       "595208    0.97\n",
       "595209    0.60\n",
       "595210    0.76\n",
       "595211    0.93\n",
       "Name: ps_car_13, Length: 595212, dtype: float64"
      ]
     },
     "execution_count": 7,
     "metadata": {},
     "output_type": "execute_result"
    }
   ],
   "source": [
    "train.ps_car_13.round(2)"
   ]
  },
  {
   "cell_type": "code",
   "execution_count": 143,
   "metadata": {
    "collapsed": true
   },
   "outputs": [],
   "source": [
    "# train = train.fillna(train.median())\n",
    "train = train.drop(train.columns[train.columns.str.startswith('ps_calc')], axis=1)\n",
    "train = train.drop(['ps_ind_10_bin','ps_ind_11_bin','ps_ind_12_bin','ps_ind_13_bin',\n",
    "                'ps_ind_18_bin','ps_car_03_cat', 'ps_car_10_cat'], axis=1)"
   ]
  },
  {
   "cell_type": "code",
   "execution_count": 144,
   "metadata": {
    "collapsed": true
   },
   "outputs": [
    {
     "name": "stderr",
     "output_type": "stream",
     "text": [
      "C:\\Users\\Zigkie\\Anaconda3\\lib\\site-packages\\ipykernel_launcher.py:2: SettingWithCopyWarning: \n",
      "A value is trying to be set on a copy of a slice from a DataFrame\n",
      "\n",
      "See the caveats in the documentation: http://pandas.pydata.org/pandas-docs/stable/indexing.html#indexing-view-versus-copy\n",
      "  \n",
      "C:\\Users\\Zigkie\\Anaconda3\\lib\\site-packages\\ipykernel_launcher.py:3: SettingWithCopyWarning: \n",
      "A value is trying to be set on a copy of a slice from a DataFrame\n",
      "\n",
      "See the caveats in the documentation: http://pandas.pydata.org/pandas-docs/stable/indexing.html#indexing-view-versus-copy\n",
      "  This is separate from the ipykernel package so we can avoid doing imports until\n",
      "C:\\Users\\Zigkie\\Anaconda3\\lib\\site-packages\\ipykernel_launcher.py:4: SettingWithCopyWarning: \n",
      "A value is trying to be set on a copy of a slice from a DataFrame\n",
      "\n",
      "See the caveats in the documentation: http://pandas.pydata.org/pandas-docs/stable/indexing.html#indexing-view-versus-copy\n",
      "  after removing the cwd from sys.path.\n",
      "C:\\Users\\Zigkie\\Anaconda3\\lib\\site-packages\\ipykernel_launcher.py:5: SettingWithCopyWarning: \n",
      "A value is trying to be set on a copy of a slice from a DataFrame\n",
      "\n",
      "See the caveats in the documentation: http://pandas.pydata.org/pandas-docs/stable/indexing.html#indexing-view-versus-copy\n",
      "  \"\"\"\n",
      "C:\\Users\\Zigkie\\Anaconda3\\lib\\site-packages\\ipykernel_launcher.py:6: SettingWithCopyWarning: \n",
      "A value is trying to be set on a copy of a slice from a DataFrame\n",
      "\n",
      "See the caveats in the documentation: http://pandas.pydata.org/pandas-docs/stable/indexing.html#indexing-view-versus-copy\n",
      "  \n"
     ]
    }
   ],
   "source": [
    "train['ps_ind_0609'] = np.zeros_like(train.id)\n",
    "train['ps_ind_0609'][train.ps_ind_06_bin==1] = 1\n",
    "train['ps_ind_0609'][train.ps_ind_07_bin==1] = 2\n",
    "train['ps_ind_0609'][train.ps_ind_08_bin==1] = 3\n",
    "train['ps_ind_0609'][train.ps_ind_09_bin==1] = 4\n",
    "train['ps_ind_0609'][train.ps_ind_0609==0] = 5\n",
    "\n",
    "train.drop(train.loc[:,'ps_ind_06_bin':'ps_ind_09_bin'].columns, axis=1, inplace=True)"
   ]
  },
  {
   "cell_type": "code",
   "execution_count": 145,
   "metadata": {
    "collapsed": true
   },
   "outputs": [
    {
     "name": "stderr",
     "output_type": "stream",
     "text": [
      "C:\\Users\\Zigkie\\Anaconda3\\lib\\site-packages\\ipykernel_launcher.py:2: SettingWithCopyWarning: \n",
      "A value is trying to be set on a copy of a slice from a DataFrame\n",
      "\n",
      "See the caveats in the documentation: http://pandas.pydata.org/pandas-docs/stable/indexing.html#indexing-view-versus-copy\n",
      "  \n",
      "C:\\Users\\Zigkie\\Anaconda3\\lib\\site-packages\\ipykernel_launcher.py:3: SettingWithCopyWarning: \n",
      "A value is trying to be set on a copy of a slice from a DataFrame\n",
      "\n",
      "See the caveats in the documentation: http://pandas.pydata.org/pandas-docs/stable/indexing.html#indexing-view-versus-copy\n",
      "  This is separate from the ipykernel package so we can avoid doing imports until\n",
      "C:\\Users\\Zigkie\\Anaconda3\\lib\\site-packages\\ipykernel_launcher.py:4: SettingWithCopyWarning: \n",
      "A value is trying to be set on a copy of a slice from a DataFrame\n",
      "\n",
      "See the caveats in the documentation: http://pandas.pydata.org/pandas-docs/stable/indexing.html#indexing-view-versus-copy\n",
      "  after removing the cwd from sys.path.\n"
     ]
    }
   ],
   "source": [
    "train['ps_ind_1618'] = np.zeros_like(train.id)\n",
    "train['ps_ind_1618'][train.ps_ind_16_bin==1] = 1\n",
    "train['ps_ind_1618'][train.ps_ind_17_bin==1] = 2\n",
    "train['ps_ind_1618'][train.ps_ind_1618==0] = 3\n",
    "\n",
    "train.drop(['ps_ind_16_bin','ps_ind_17_bin'], axis=1, inplace=True)"
   ]
  },
  {
   "cell_type": "code",
   "execution_count": 146,
   "metadata": {},
   "outputs": [],
   "source": [
    "train['ps_car_13_squared'] = (train.ps_car_13**2*48400).round(0)\n",
    "train['ps_car_12_squared'] = (train.ps_car_12**2*10000).round(4)\n",
    "train['ps_car_13_reg_03'] = train.ps_car_13*train.ps_reg_03"
   ]
  },
  {
   "cell_type": "code",
   "execution_count": 147,
   "metadata": {
    "collapsed": true
   },
   "outputs": [],
   "source": [
    "train['row_std'] = train.iloc[:, 2:].std(axis=1)\n",
    "train['row_mean'] = train.iloc[:, 2:].mean(axis=1)\n",
    "train['row_median'] = train.iloc[:, 2:].median(axis=1)\n",
    "train['row_zero'] = (train == 0).sum(axis=1)\n",
    "train['row_na'] = train.isnull().sum(axis=1)"
   ]
  },
  {
   "cell_type": "code",
   "execution_count": 148,
   "metadata": {},
   "outputs": [],
   "source": [
    "median_cat = train[train.columns[~(train.columns.str.endswith('bin'))][2:]]\n",
    "median_cat = (median_cat>median_cat.median(axis=0)).astype('int')\n",
    "median_cat.columns = [str(col)+'_med' for col in median_cat.columns]"
   ]
  },
  {
   "cell_type": "code",
   "execution_count": 149,
   "metadata": {
    "collapsed": true
   },
   "outputs": [],
   "source": [
    "mean_cat = train[train.columns[~(train.columns.str.endswith('bin'))][2:]]\n",
    "mean_cat = (mean_cat>mean_cat.mean(axis=0)).astype('int')\n",
    "mean_cat.columns = [str(col)+'_mean' for col in mean_cat.columns]"
   ]
  },
  {
   "cell_type": "code",
   "execution_count": 151,
   "metadata": {},
   "outputs": [],
   "source": [
    "train = pd.concat([train, median_cat, mean_cat], axis=1)"
   ]
  },
  {
   "cell_type": "code",
   "execution_count": 153,
   "metadata": {},
   "outputs": [
    {
     "data": {
      "text/plain": [
       "(595212, 172)"
      ]
     },
     "execution_count": 153,
     "metadata": {},
     "output_type": "execute_result"
    }
   ],
   "source": [
    "train.shape"
   ]
  },
  {
   "cell_type": "code",
   "execution_count": 154,
   "metadata": {},
   "outputs": [
    {
     "data": {
      "text/plain": [
       "array(['id', 'target', 'ps_ind_01', 'ps_ind_02_cat', 'ps_ind_03',\n",
       "       'ps_ind_04_cat', 'ps_ind_05_cat', 'ps_ind_14', 'ps_ind_15',\n",
       "       'ps_reg_01', 'ps_reg_02', 'ps_reg_03', 'ps_car_01_cat',\n",
       "       'ps_car_02_cat', 'ps_car_04_cat', 'ps_car_05_cat', 'ps_car_06_cat',\n",
       "       'ps_car_07_cat', 'ps_car_08_cat', 'ps_car_09_cat', 'ps_car_11_cat',\n",
       "       'ps_car_11', 'ps_car_12', 'ps_car_13', 'ps_car_14', 'ps_car_15',\n",
       "       'ps_ind_0609', 'ps_ind_1618', 'ps_car_13_squared',\n",
       "       'ps_car_12_squared', 'ps_car_13_reg_03', 'row_std', 'row_mean',\n",
       "       'row_median', 'row_zero', 'row_na', 'ps_ind_01_med',\n",
       "       'ps_ind_02_cat_med', 'ps_ind_03_med', 'ps_ind_04_cat_med',\n",
       "       'ps_ind_05_cat_med', 'ps_ind_14_med', 'ps_ind_15_med',\n",
       "       'ps_reg_01_med', 'ps_reg_02_med', 'ps_reg_03_med',\n",
       "       'ps_car_01_cat_med', 'ps_car_02_cat_med', 'ps_car_04_cat_med',\n",
       "       'ps_car_05_cat_med', 'ps_car_06_cat_med', 'ps_car_07_cat_med',\n",
       "       'ps_car_08_cat_med', 'ps_car_09_cat_med', 'ps_car_11_cat_med',\n",
       "       'ps_car_11_med', 'ps_car_12_med', 'ps_car_13_med', 'ps_car_14_med',\n",
       "       'ps_car_15_med', 'ps_ind_0609_med', 'ps_ind_1618_med',\n",
       "       'ps_car_13_squared_med', 'ps_car_12_squared_med',\n",
       "       'ps_car_13_reg_03_med', 'row_std_med', 'row_mean_med',\n",
       "       'row_median_med', 'row_zero_med', 'row_na_med', 'ps_ind_01_mean',\n",
       "       'ps_ind_02_cat_mean', 'ps_ind_03_mean', 'ps_ind_04_cat_mean',\n",
       "       'ps_ind_05_cat_mean', 'ps_ind_14_mean', 'ps_ind_15_mean',\n",
       "       'ps_reg_01_mean', 'ps_reg_02_mean', 'ps_reg_03_mean',\n",
       "       'ps_car_01_cat_mean', 'ps_car_02_cat_mean', 'ps_car_04_cat_mean',\n",
       "       'ps_car_05_cat_mean', 'ps_car_06_cat_mean', 'ps_car_07_cat_mean',\n",
       "       'ps_car_08_cat_mean', 'ps_car_09_cat_mean', 'ps_car_11_cat_mean',\n",
       "       'ps_car_11_mean', 'ps_car_12_mean', 'ps_car_13_mean',\n",
       "       'ps_car_14_mean', 'ps_car_15_mean', 'ps_ind_0609_mean',\n",
       "       'ps_ind_1618_mean', 'ps_car_13_squared_mean',\n",
       "       'ps_car_12_squared_mean', 'ps_car_13_reg_03_mean', 'row_std_mean',\n",
       "       'row_mean_mean', 'row_median_mean', 'row_zero_mean', 'row_na_mean',\n",
       "       'ps_ind_01_med', 'ps_ind_02_cat_med', 'ps_ind_03_med',\n",
       "       'ps_ind_04_cat_med', 'ps_ind_05_cat_med', 'ps_ind_14_med',\n",
       "       'ps_ind_15_med', 'ps_reg_01_med', 'ps_reg_02_med', 'ps_reg_03_med',\n",
       "       'ps_car_01_cat_med', 'ps_car_02_cat_med', 'ps_car_04_cat_med',\n",
       "       'ps_car_05_cat_med', 'ps_car_06_cat_med', 'ps_car_07_cat_med',\n",
       "       'ps_car_08_cat_med', 'ps_car_09_cat_med', 'ps_car_11_cat_med',\n",
       "       'ps_car_11_med', 'ps_car_12_med', 'ps_car_13_med', 'ps_car_14_med',\n",
       "       'ps_car_15_med', 'ps_ind_0609_med', 'ps_ind_1618_med',\n",
       "       'ps_car_13_squared_med', 'ps_car_12_squared_med',\n",
       "       'ps_car_13_reg_03_med', 'row_std_med', 'row_mean_med',\n",
       "       'row_median_med', 'row_zero_med', 'row_na_med', 'ps_ind_01_mean',\n",
       "       'ps_ind_02_cat_mean', 'ps_ind_03_mean', 'ps_ind_04_cat_mean',\n",
       "       'ps_ind_05_cat_mean', 'ps_ind_14_mean', 'ps_ind_15_mean',\n",
       "       'ps_reg_01_mean', 'ps_reg_02_mean', 'ps_reg_03_mean',\n",
       "       'ps_car_01_cat_mean', 'ps_car_02_cat_mean', 'ps_car_04_cat_mean',\n",
       "       'ps_car_05_cat_mean', 'ps_car_06_cat_mean', 'ps_car_07_cat_mean',\n",
       "       'ps_car_08_cat_mean', 'ps_car_09_cat_mean', 'ps_car_11_cat_mean',\n",
       "       'ps_car_11_mean', 'ps_car_12_mean', 'ps_car_13_mean',\n",
       "       'ps_car_14_mean', 'ps_car_15_mean', 'ps_ind_0609_mean',\n",
       "       'ps_ind_1618_mean', 'ps_car_13_squared_mean',\n",
       "       'ps_car_12_squared_mean', 'ps_car_13_reg_03_mean', 'row_std_mean',\n",
       "       'row_mean_mean', 'row_median_mean', 'row_zero_mean', 'row_na_mean'], dtype=object)"
      ]
     },
     "execution_count": 154,
     "metadata": {},
     "output_type": "execute_result"
    }
   ],
   "source": [
    "train.columns.values"
   ]
  },
  {
   "cell_type": "code",
   "execution_count": null,
   "metadata": {
    "collapsed": true
   },
   "outputs": [],
   "source": []
  }
 ],
 "metadata": {
  "kernelspec": {
   "display_name": "Python 3",
   "language": "python",
   "name": "python3"
  },
  "language_info": {
   "codemirror_mode": {
    "name": "ipython",
    "version": 3
   },
   "file_extension": ".py",
   "mimetype": "text/x-python",
   "name": "python",
   "nbconvert_exporter": "python",
   "pygments_lexer": "ipython3",
   "version": "3.6.2"
  }
 },
 "nbformat": 4,
 "nbformat_minor": 2
}
