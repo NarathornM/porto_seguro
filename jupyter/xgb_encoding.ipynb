{
 "cells": [
  {
   "cell_type": "code",
   "execution_count": 1,
   "metadata": {},
   "outputs": [],
   "source": [
    "from utils.bayesian_encoding import Bayesian_Encoding\n",
    "from utils import utils\n",
    "from utils import layer2\n",
    "from utils.xgb_fn import*\n",
    "\n",
    "import numpy as np\n",
    "import pandas as pd\n",
    "\n",
    "from matplotlib import pyplot as plt\n",
    "%matplotlib inline\n",
    "\n",
    "from jupyterthemes import jtplot\n",
    "jtplot.reset()"
   ]
  },
  {
   "cell_type": "code",
   "execution_count": 2,
   "metadata": {},
   "outputs": [],
   "source": [
    "import xgboost as xgb\n",
    "from sklearn.model_selection import train_test_split"
   ]
  },
  {
   "cell_type": "code",
   "execution_count": 3,
   "metadata": {},
   "outputs": [
    {
     "name": "stdout",
     "output_type": "stream",
     "text": [
      "Successfully loaded train and test data\n"
     ]
    }
   ],
   "source": [
    "train, test = utils.load_data()"
   ]
  },
  {
   "cell_type": "code",
   "execution_count": 4,
   "metadata": {},
   "outputs": [
    {
     "name": "stdout",
     "output_type": "stream",
     "text": [
      "[START ENCODING Fold 1/5]\n",
      "[START ENCODING Fold 2/5]\n",
      "[START ENCODING Fold 3/5]\n",
      "[START ENCODING Fold 4/5]\n",
      "[START ENCODING Fold 5/5]\n",
      "Successfully Encoded\n"
     ]
    }
   ],
   "source": [
    "encoded_train, encoded_test = Bayesian_Encoding(mode='likelihood').fit_transform(train, test)"
   ]
  },
  {
   "cell_type": "code",
   "execution_count": 5,
   "metadata": {},
   "outputs": [
    {
     "name": "stdout",
     "output_type": "stream",
     "text": [
      "Successfully cleaned train and test data\n",
      "Successfully engineered train and test data\n"
     ]
    }
   ],
   "source": [
    "train, test = utils.clean_data(train, test)\n",
    "train, test = utils.engineer_features(train, test)\n",
    "train = train.drop(['id', 'target'], axis=1)\n",
    "test = test.drop('id', axis=1)"
   ]
  },
  {
   "cell_type": "code",
   "execution_count": 5,
   "metadata": {},
   "outputs": [],
   "source": [
    "train = train.drop(train.columns[train.columns.str.startswith('ps_calc')], axis=1)\n",
    "train = train.drop(['ps_ind_10_bin','ps_ind_11_bin','ps_ind_12_bin','ps_ind_13_bin',\n",
    "                        'ps_ind_18_bin','ps_car_03_cat','ps_car_10_cat'], axis=1)\n",
    "\n",
    "test = test.drop(test.columns[test.columns.str.startswith('ps_calc')], axis=1)\n",
    "test = test.drop(['ps_ind_10_bin','ps_ind_11_bin','ps_ind_12_bin','ps_ind_13_bin',\n",
    "                        'ps_ind_18_bin','ps_car_03_cat','ps_car_10_cat'], axis=1)"
   ]
  },
  {
   "cell_type": "code",
   "execution_count": 10,
   "metadata": {},
   "outputs": [],
   "source": [
    "mul_top_5 = pd.DataFrame()\n",
    "mul_top_5['ps_car_13ps_ind_05_cat'] = train['ps_ind_03']*train['ps_car_13']\n",
    "mul_top_5['ps_ind_03ps_reg_03'] = train['ps_ind_03']*train['ps_reg_03']\n",
    "mul_top_5['ps_reg_03ps_car_13'] = train['ps_reg_03']*train['ps_car_13']\n",
    "mul_top_5['ps_reg_01ps_car_13'] = train['ps_reg_01']*train['ps_car_13']\n",
    "mul_top_5['ps_ind_03ps_car_14'] = train['ps_ind_03']*train['ps_car_14']"
   ]
  },
  {
   "cell_type": "code",
   "execution_count": 7,
   "metadata": {
    "collapsed": true
   },
   "outputs": [],
   "source": [
    "interact_train = pd.DataFrame()\n",
    "for i in train.columns:\n",
    "    for j in train.columns:\n",
    "        if i != j:\n",
    "            interact_train[i+j] = train[i]*train[j]"
   ]
  },
  {
   "cell_type": "code",
   "execution_count": 5,
   "metadata": {
    "collapsed": true
   },
   "outputs": [],
   "source": [
    "meta = layer2.get_meta_features('train')\n",
    "meta_test = layer2.get_meta_features('test')"
   ]
  },
  {
   "cell_type": "code",
   "execution_count": 13,
   "metadata": {},
   "outputs": [],
   "source": [
    "mul_test = test.ps_ind_03*test.ps_reg_03"
   ]
  },
  {
   "cell_type": "code",
   "execution_count": 7,
   "metadata": {},
   "outputs": [],
   "source": [
    "# X = meta\n",
    "y = pd.read_csv('data/train.csv', na_values=-1).target\n",
    "test_id = pd.read_csv('data/test.csv', na_values=-1).id"
   ]
  },
  {
   "cell_type": "code",
   "execution_count": 11,
   "metadata": {},
   "outputs": [],
   "source": [
    "X = pd.concat([train, mul_top_5['ps_reg_03ps_car_13']], axis=1)\n",
    "# X = X.drop(['ps_ind_03', 'ps_car_13', 'ps_reg_03', 'ps_ind_03', 'ps_reg_01', 'ps_car_14'], axis=1)\n",
    "X_test = pd.concat([test, encoded_test], axis=1)"
   ]
  },
  {
   "cell_type": "code",
   "execution_count": 12,
   "metadata": {},
   "outputs": [],
   "source": [
    "param = {'tree_method': 'gpu_hist',\n",
    "        'silent': True,\n",
    "        'eval_metric': 'auc',\n",
    "        'objective': 'binary:logistic',\n",
    "        'eta': 0.01,\n",
    "        'max_depth': 5,\n",
    "        'gamma': 0.3,\n",
    "        'min_child_weight': 7,\n",
    "        'subsample': 0.7,\n",
    "        'colsample_bytree': 0.6,\n",
    "        'max_delta_step': 2\n",
    "        }"
   ]
  },
  {
   "cell_type": "code",
   "execution_count": 13,
   "metadata": {
    "scrolled": false
   },
   "outputs": [
    {
     "name": "stdout",
     "output_type": "stream",
     "text": [
      "Training xgb Fold:1/5\n",
      "[0]\ttrain-auc:0.600289\ttest-auc:0.597855\ttrain-gini:0.200943\ttest-gini:0.195395\n",
      "Multiple eval metrics have been passed: 'test-gini' will be used for early stopping.\n",
      "\n",
      "Will train until test-gini hasn't improved in 100 rounds.\n",
      "[100]\ttrain-auc:0.632192\ttest-auc:0.626853\ttrain-gini:0.264383\ttest-gini:0.253706\n",
      "[200]\ttrain-auc:0.635375\ttest-auc:0.628037\ttrain-gini:0.270749\ttest-gini:0.256074\n",
      "[300]\ttrain-auc:0.640021\ttest-auc:0.63079\ttrain-gini:0.280042\ttest-gini:0.261581\n",
      "[400]\ttrain-auc:0.646623\ttest-auc:0.634222\ttrain-gini:0.293245\ttest-gini:0.268443\n",
      "[500]\ttrain-auc:0.65279\ttest-auc:0.637201\ttrain-gini:0.30558\ttest-gini:0.274403\n",
      "[600]\ttrain-auc:0.658117\ttest-auc:0.639027\ttrain-gini:0.316233\ttest-gini:0.278054\n",
      "[700]\ttrain-auc:0.66235\ttest-auc:0.640279\ttrain-gini:0.324699\ttest-gini:0.280559\n",
      "[800]\ttrain-auc:0.666168\ttest-auc:0.641502\ttrain-gini:0.332336\ttest-gini:0.283003\n",
      "[900]\ttrain-auc:0.66943\ttest-auc:0.642169\ttrain-gini:0.338861\ttest-gini:0.284339\n",
      "[1000]\ttrain-auc:0.672423\ttest-auc:0.642604\ttrain-gini:0.344845\ttest-gini:0.285208\n",
      "[1100]\ttrain-auc:0.675178\ttest-auc:0.642956\ttrain-gini:0.350356\ttest-gini:0.285912\n",
      "[1200]\ttrain-auc:0.677551\ttest-auc:0.643367\ttrain-gini:0.355102\ttest-gini:0.286733\n",
      "[1300]\ttrain-auc:0.679931\ttest-auc:0.643471\ttrain-gini:0.359861\ttest-gini:0.286943\n",
      "[1400]\ttrain-auc:0.682145\ttest-auc:0.643688\ttrain-gini:0.364291\ttest-gini:0.287377\n",
      "[1500]\ttrain-auc:0.684266\ttest-auc:0.643677\ttrain-gini:0.368531\ttest-gini:0.287355\n",
      "Stopping. Best iteration:\n",
      "[1423]\ttrain-auc:0.682627\ttest-auc:0.643765\ttrain-gini:0.365254\ttest-gini:0.28753\n",
      "\n",
      "[Fold 1/5 Gini score: 0.28753]\n",
      "Training xgb Fold:2/5\n",
      "[0]\ttrain-auc:0.601291\ttest-auc:0.593013\ttrain-gini:0.201632\ttest-gini:0.186405\n",
      "Multiple eval metrics have been passed: 'test-gini' will be used for early stopping.\n",
      "\n",
      "Will train until test-gini hasn't improved in 100 rounds.\n",
      "[100]\ttrain-auc:0.63191\ttest-auc:0.621056\ttrain-gini:0.26382\ttest-gini:0.242112\n",
      "[200]\ttrain-auc:0.635733\ttest-auc:0.62356\ttrain-gini:0.271466\ttest-gini:0.247121\n",
      "[300]\ttrain-auc:0.639843\ttest-auc:0.62664\ttrain-gini:0.279686\ttest-gini:0.253281\n",
      "[400]\ttrain-auc:0.646216\ttest-auc:0.630857\ttrain-gini:0.292433\ttest-gini:0.261715\n",
      "[500]\ttrain-auc:0.652208\ttest-auc:0.634552\ttrain-gini:0.304416\ttest-gini:0.269103\n",
      "[600]\ttrain-auc:0.657506\ttest-auc:0.636868\ttrain-gini:0.315012\ttest-gini:0.273736\n",
      "[700]\ttrain-auc:0.661962\ttest-auc:0.638605\ttrain-gini:0.323924\ttest-gini:0.27721\n",
      "[800]\ttrain-auc:0.665643\ttest-auc:0.639796\ttrain-gini:0.331286\ttest-gini:0.279592\n",
      "[900]\ttrain-auc:0.668854\ttest-auc:0.640682\ttrain-gini:0.337708\ttest-gini:0.281363\n",
      "[1000]\ttrain-auc:0.671824\ttest-auc:0.641288\ttrain-gini:0.343648\ttest-gini:0.282575\n",
      "[1100]\ttrain-auc:0.674632\ttest-auc:0.641816\ttrain-gini:0.349263\ttest-gini:0.283631\n",
      "[1200]\ttrain-auc:0.677041\ttest-auc:0.642063\ttrain-gini:0.354082\ttest-gini:0.284127\n",
      "[1300]\ttrain-auc:0.679407\ttest-auc:0.642212\ttrain-gini:0.358814\ttest-gini:0.284424\n",
      "[1400]\ttrain-auc:0.681606\ttest-auc:0.64232\ttrain-gini:0.363212\ttest-gini:0.28464\n",
      "Stopping. Best iteration:\n",
      "[1364]\ttrain-auc:0.680833\ttest-auc:0.642344\ttrain-gini:0.361667\ttest-gini:0.284688\n",
      "\n",
      "[Fold 2/5 Gini score: 0.284688]\n",
      "Training xgb Fold:3/5\n",
      "[0]\ttrain-auc:0.601116\ttest-auc:0.599206\ttrain-gini:0.202064\ttest-gini:0.197303\n",
      "Multiple eval metrics have been passed: 'test-gini' will be used for early stopping.\n",
      "\n",
      "Will train until test-gini hasn't improved in 100 rounds.\n",
      "[100]\ttrain-auc:0.632061\ttest-auc:0.62412\ttrain-gini:0.264121\ttest-gini:0.24824\n",
      "[200]\ttrain-auc:0.63625\ttest-auc:0.625986\ttrain-gini:0.272499\ttest-gini:0.251971\n",
      "[300]\ttrain-auc:0.640811\ttest-auc:0.628796\ttrain-gini:0.281622\ttest-gini:0.257592\n",
      "[400]\ttrain-auc:0.647083\ttest-auc:0.632428\ttrain-gini:0.294165\ttest-gini:0.264855\n",
      "[500]\ttrain-auc:0.652762\ttest-auc:0.635719\ttrain-gini:0.305523\ttest-gini:0.271437\n",
      "[600]\ttrain-auc:0.657841\ttest-auc:0.637975\ttrain-gini:0.315682\ttest-gini:0.275951\n",
      "[700]\ttrain-auc:0.662072\ttest-auc:0.639672\ttrain-gini:0.324144\ttest-gini:0.279343\n",
      "[800]\ttrain-auc:0.665507\ttest-auc:0.640513\ttrain-gini:0.331014\ttest-gini:0.281026\n",
      "[900]\ttrain-auc:0.668749\ttest-auc:0.641156\ttrain-gini:0.337499\ttest-gini:0.282313\n",
      "[1000]\ttrain-auc:0.671825\ttest-auc:0.641945\ttrain-gini:0.343649\ttest-gini:0.283889\n",
      "[1100]\ttrain-auc:0.67456\ttest-auc:0.642239\ttrain-gini:0.349119\ttest-gini:0.284479\n",
      "[1200]\ttrain-auc:0.67704\ttest-auc:0.642387\ttrain-gini:0.35408\ttest-gini:0.284774\n",
      "[1300]\ttrain-auc:0.679353\ttest-auc:0.642562\ttrain-gini:0.358707\ttest-gini:0.285124\n",
      "[1400]\ttrain-auc:0.681588\ttest-auc:0.642667\ttrain-gini:0.363176\ttest-gini:0.285334\n",
      "[1500]\ttrain-auc:0.683708\ttest-auc:0.642868\ttrain-gini:0.367417\ttest-gini:0.285735\n",
      "[1600]\ttrain-auc:0.685998\ttest-auc:0.642987\ttrain-gini:0.371996\ttest-gini:0.285975\n",
      "[1700]\ttrain-auc:0.688183\ttest-auc:0.643048\ttrain-gini:0.376366\ttest-gini:0.286097\n",
      "[1800]\ttrain-auc:0.690031\ttest-auc:0.643064\ttrain-gini:0.380063\ttest-gini:0.286128\n",
      "Stopping. Best iteration:\n",
      "[1786]\ttrain-auc:0.68981\ttest-auc:0.643105\ttrain-gini:0.379621\ttest-gini:0.28621\n",
      "\n",
      "[Fold 3/5 Gini score: 0.28621]\n",
      "Training xgb Fold:4/5\n",
      "[0]\ttrain-auc:0.599171\ttest-auc:0.600196\ttrain-gini:0.198209\ttest-gini:0.200059\n",
      "Multiple eval metrics have been passed: 'test-gini' will be used for early stopping.\n",
      "\n",
      "Will train until test-gini hasn't improved in 100 rounds.\n",
      "[100]\ttrain-auc:0.631208\ttest-auc:0.624175\ttrain-gini:0.262416\ttest-gini:0.24835\n",
      "[200]\ttrain-auc:0.634746\ttest-auc:0.626052\ttrain-gini:0.269493\ttest-gini:0.252103\n",
      "[300]\ttrain-auc:0.639307\ttest-auc:0.629276\ttrain-gini:0.278615\ttest-gini:0.258553\n",
      "[400]\ttrain-auc:0.645586\ttest-auc:0.633417\ttrain-gini:0.291173\ttest-gini:0.266835\n",
      "[500]\ttrain-auc:0.651677\ttest-auc:0.637297\ttrain-gini:0.303353\ttest-gini:0.274594\n",
      "[600]\ttrain-auc:0.657048\ttest-auc:0.63989\ttrain-gini:0.314096\ttest-gini:0.27978\n",
      "[700]\ttrain-auc:0.661514\ttest-auc:0.641669\ttrain-gini:0.323028\ttest-gini:0.283339\n",
      "[800]\ttrain-auc:0.665157\ttest-auc:0.642847\ttrain-gini:0.330313\ttest-gini:0.285694\n",
      "[900]\ttrain-auc:0.668556\ttest-auc:0.643936\ttrain-gini:0.337112\ttest-gini:0.287872\n",
      "[1000]\ttrain-auc:0.671436\ttest-auc:0.644623\ttrain-gini:0.342873\ttest-gini:0.289246\n",
      "[1100]\ttrain-auc:0.673867\ttest-auc:0.645108\ttrain-gini:0.347734\ttest-gini:0.290216\n",
      "[1200]\ttrain-auc:0.676467\ttest-auc:0.645664\ttrain-gini:0.352934\ttest-gini:0.291329\n",
      "[1300]\ttrain-auc:0.678908\ttest-auc:0.646072\ttrain-gini:0.357816\ttest-gini:0.292143\n",
      "[1400]\ttrain-auc:0.681051\ttest-auc:0.646216\ttrain-gini:0.362102\ttest-gini:0.292433\n",
      "[1500]\ttrain-auc:0.683265\ttest-auc:0.646329\ttrain-gini:0.366531\ttest-gini:0.292658\n",
      "[1600]\ttrain-auc:0.685387\ttest-auc:0.64642\ttrain-gini:0.370774\ttest-gini:0.292839\n",
      "[1700]\ttrain-auc:0.6874\ttest-auc:0.646474\ttrain-gini:0.374799\ttest-gini:0.292948\n",
      "Stopping. Best iteration:\n",
      "[1668]\ttrain-auc:0.686782\ttest-auc:0.646528\ttrain-gini:0.373564\ttest-gini:0.293056\n",
      "\n",
      "[Fold 4/5 Gini score: 0.293056]\n",
      "Training xgb Fold:5/5\n",
      "[0]\ttrain-auc:0.601092\ttest-auc:0.598806\ttrain-gini:0.202458\ttest-gini:0.197046\n",
      "Multiple eval metrics have been passed: 'test-gini' will be used for early stopping.\n",
      "\n",
      "Will train until test-gini hasn't improved in 100 rounds.\n",
      "[100]\ttrain-auc:0.632522\ttest-auc:0.622748\ttrain-gini:0.265044\ttest-gini:0.245497\n",
      "[200]\ttrain-auc:0.636541\ttest-auc:0.624701\ttrain-gini:0.273082\ttest-gini:0.249403\n",
      "[300]\ttrain-auc:0.641229\ttest-auc:0.626528\ttrain-gini:0.282457\ttest-gini:0.253056\n",
      "[400]\ttrain-auc:0.647645\ttest-auc:0.629565\ttrain-gini:0.29529\ttest-gini:0.259131\n",
      "[500]\ttrain-auc:0.65363\ttest-auc:0.632116\ttrain-gini:0.307261\ttest-gini:0.264232\n",
      "[600]\ttrain-auc:0.658995\ttest-auc:0.633918\ttrain-gini:0.31799\ttest-gini:0.267836\n",
      "[700]\ttrain-auc:0.663318\ttest-auc:0.635236\ttrain-gini:0.326635\ttest-gini:0.270472\n",
      "[800]\ttrain-auc:0.667212\ttest-auc:0.636072\ttrain-gini:0.334425\ttest-gini:0.272145\n",
      "[900]\ttrain-auc:0.670629\ttest-auc:0.636691\ttrain-gini:0.341259\ttest-gini:0.273383\n",
      "[1000]\ttrain-auc:0.673683\ttest-auc:0.637164\ttrain-gini:0.347365\ttest-gini:0.274327\n",
      "[1100]\ttrain-auc:0.676344\ttest-auc:0.637505\ttrain-gini:0.352688\ttest-gini:0.275011\n",
      "[1200]\ttrain-auc:0.678896\ttest-auc:0.637813\ttrain-gini:0.357792\ttest-gini:0.275626\n",
      "[1300]\ttrain-auc:0.681325\ttest-auc:0.637977\ttrain-gini:0.36265\ttest-gini:0.275954\n",
      "[1400]\ttrain-auc:0.683503\ttest-auc:0.638075\ttrain-gini:0.367007\ttest-gini:0.276149\n"
     ]
    },
    {
     "name": "stdout",
     "output_type": "stream",
     "text": [
      "[1500]\ttrain-auc:0.685685\ttest-auc:0.63831\ttrain-gini:0.37137\ttest-gini:0.276619\n",
      "[1600]\ttrain-auc:0.687923\ttest-auc:0.638461\ttrain-gini:0.375847\ttest-gini:0.276922\n",
      "[1700]\ttrain-auc:0.689863\ttest-auc:0.638422\ttrain-gini:0.379726\ttest-gini:0.276844\n",
      "Stopping. Best iteration:\n",
      "[1627]\ttrain-auc:0.688457\ttest-auc:0.638532\ttrain-gini:0.376914\ttest-gini:0.277063\n",
      "\n",
      "[Fold 5/5 Gini score: 0.277063]\n",
      "[Successfully trained, Average Gini score: 0.2857094]\n"
     ]
    }
   ],
   "source": [
    "xgb_skf_train(X, y, param, nfolds=5, model_path_name='xgb_models/xgb')"
   ]
  },
  {
   "cell_type": "code",
   "execution_count": 17,
   "metadata": {},
   "outputs": [],
   "source": [
    "pred = xgb_skf_predict(X_test.values, test_id)"
   ]
  },
  {
   "cell_type": "code",
   "execution_count": 18,
   "metadata": {},
   "outputs": [],
   "source": [
    "pred['target'] = pred['target']/5"
   ]
  },
  {
   "cell_type": "code",
   "execution_count": 19,
   "metadata": {},
   "outputs": [],
   "source": [
    "pred.to_csv('../sub/sub43.csv', index=False)"
   ]
  },
  {
   "cell_type": "code",
   "execution_count": null,
   "metadata": {},
   "outputs": [],
   "source": []
  }
 ],
 "metadata": {
  "kernelspec": {
   "display_name": "Python 3",
   "language": "python",
   "name": "python3"
  },
  "language_info": {
   "codemirror_mode": {
    "name": "ipython",
    "version": 3
   },
   "file_extension": ".py",
   "mimetype": "text/x-python",
   "name": "python",
   "nbconvert_exporter": "python",
   "pygments_lexer": "ipython3",
   "version": "3.6.2"
  }
 },
 "nbformat": 4,
 "nbformat_minor": 2
}
