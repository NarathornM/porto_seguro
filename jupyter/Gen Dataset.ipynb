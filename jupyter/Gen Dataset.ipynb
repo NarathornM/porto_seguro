{
 "cells": [
  {
   "cell_type": "code",
   "execution_count": 1,
   "metadata": {},
   "outputs": [],
   "source": [
    "from utils import utils, xgb_fn, bayesian_encoding\n",
    "\n",
    "import numpy as np\n",
    "import pandas as pd\n",
    "\n",
    "from sklearn.model_selection import train_test_split\n",
    "from sklearn.decomposition import PCA\n",
    "from sklearn.neighbors import NearestNeighbors\n",
    "from sklearn.preprocessing import StandardScaler\n",
    "from sklearn.cluster import KMeans\n",
    "\n",
    "from matplotlib import pyplot as plt\n",
    "%matplotlib inline\n",
    "\n",
    "from jupyterthemes import jtplot\n",
    "jtplot.reset()"
   ]
  },
  {
   "cell_type": "code",
   "execution_count": 53,
   "metadata": {},
   "outputs": [
    {
     "name": "stdout",
     "output_type": "stream",
     "text": [
      "Successfully loaded train and test data\n"
     ]
    }
   ],
   "source": [
    "train, test = utils.load_data()\n",
    "train = train.id\n",
    "test = test.id"
   ]
  },
  {
   "cell_type": "code",
   "execution_count": 2,
   "metadata": {},
   "outputs": [],
   "source": [
    "combined = pd.read_csv('data/combine.csv')"
   ]
  },
  {
   "cell_type": "code",
   "execution_count": 14,
   "metadata": {},
   "outputs": [],
   "source": [
    "combined_dummies = combined.drop(combined.columns[combined.columns.str.startswith('ps_calc')], axis=1)\n",
    "combined_dummies = combined_dummies.drop(['ps_ind_10_bin','ps_ind_11_bin','ps_ind_12_bin','ps_ind_13_bin',\n",
    "                'ps_ind_18_bin','ps_car_03_cat','ps_car_10_cat'], axis=1)\n",
    "combined_dummies = pd.get_dummies(combined_dummies, columns=combined_dummies.columns[combined_dummies.columns.str.endswith('cat')==True])\n",
    "combined_dummies = combined_dummies.drop(['id', 'target'], axis=1)\n",
    "combined_dummies = combined_dummies.fillna(-1)"
   ]
  },
  {
   "cell_type": "code",
   "execution_count": 18,
   "metadata": {},
   "outputs": [],
   "source": [
    "combined_dummies = StandardScaler().fit_transform(combined_dummies)"
   ]
  },
  {
   "cell_type": "code",
   "execution_count": 32,
   "metadata": {},
   "outputs": [],
   "source": [
    "combined = combined.drop(combined.columns[combined.columns.str.startswith('ps_calc')], axis=1)\n",
    "combined = combined.drop(['ps_ind_10_bin','ps_ind_11_bin','ps_ind_12_bin','ps_ind_13_bin',\n",
    "                'ps_ind_18_bin','ps_car_03_cat','ps_car_10_cat'], axis=1)"
   ]
  },
  {
   "cell_type": "code",
   "execution_count": 244,
   "metadata": {},
   "outputs": [],
   "source": [
    "# combined_cat = combined[combined.columns[combined.columns.str.endswith('cat')]]\n",
    "combined_bin = combined[combined.columns[combined.columns.str.endswith('bin')]]"
   ]
  },
  {
   "cell_type": "code",
   "execution_count": 52,
   "metadata": {},
   "outputs": [],
   "source": [
    "combined = combined[combined.columns[~combined.columns.str.endswith('cat')]]\n",
    "combined = combined[combined.columns[~combined.columns.str.endswith('bin')]]"
   ]
  },
  {
   "cell_type": "code",
   "execution_count": 110,
   "metadata": {},
   "outputs": [],
   "source": [
    "ps_reg_03 = (combined.ps_reg_03**2)*16*100\n",
    "ps_car_15 = combined.ps_car_15**2\n",
    "ps_car_14 = (combined.ps_car_14**2)*10000\n",
    "ps_car_13 = combined.ps_car_13**2*100000\n",
    "ps_car_13 = ps_car_13.round(1)\n",
    "ps_car_12 = combined.ps_car_12**2*100\n",
    "ps_car_12 = ps_car_12.round(0)*100"
   ]
  },
  {
   "cell_type": "code",
   "execution_count": 202,
   "metadata": {},
   "outputs": [],
   "source": [
    "kmeans = KMeans(n_clusters=10, random_state=123, n_jobs=-1)"
   ]
  },
  {
   "cell_type": "code",
   "execution_count": 208,
   "metadata": {},
   "outputs": [],
   "source": [
    "combined_cat['ps_reg_03_cat'] = kmeans.fit_predict(ps_reg_03.fillna(-1).reshape(-1, 1))\n",
    "combined_cat['ps_car_13_cat'] = kmeans.fit_predict(ps_car_13.fillna(-1).reshape(-1, 1))\n",
    "combined_cat['ps_car_14_cat'] = kmeans.fit_predict(ps_car_14.fillna(-1).reshape(-1, 1))\n",
    "combined_cat['ps_car_12_cat'] = ps_car_12\n",
    "combined_cat['ps_car_15_cat'] = ps_car_15"
   ]
  },
  {
   "cell_type": "code",
   "execution_count": 223,
   "metadata": {},
   "outputs": [],
   "source": [
    "combined_cat['ps_reg_01_cat'] = combined.ps_reg_01*10\n",
    "combined_cat['ps_reg_02_cat'] = combined.ps_reg_02*10"
   ]
  },
  {
   "cell_type": "code",
   "execution_count": 225,
   "metadata": {},
   "outputs": [],
   "source": [
    "combined_cat = pd.concat([combined_cat,combined[['ps_ind_01', 'ps_ind_03', 'ps_ind_14', 'ps_ind_15']]], axis=1)"
   ]
  },
  {
   "cell_type": "code",
   "execution_count": 232,
   "metadata": {},
   "outputs": [],
   "source": [
    "combined_cat_bin = pd.get_dummies(combined_cat, dummy_na=True, columns=combined_cat.columns)"
   ]
  },
  {
   "cell_type": "code",
   "execution_count": 245,
   "metadata": {},
   "outputs": [],
   "source": [
    "combined_bin = pd.concat([combined[['id', 'target']], combined_bin,combined_cat_bin], axis=1)"
   ]
  },
  {
   "cell_type": "code",
   "execution_count": 249,
   "metadata": {},
   "outputs": [],
   "source": [
    "combined_bin.iloc[train,:].to_csv('data/bin_train.csv', index=False)\n",
    "combined_bin.iloc[test,:].to_csv('data/bin_test.csv', index=False)"
   ]
  },
  {
   "cell_type": "code",
   "execution_count": 250,
   "metadata": {},
   "outputs": [],
   "source": [
    "combined_cat.iloc[train,:].to_csv('data/cat_train.csv', index=False)\n",
    "combined_cat.iloc[test,:].to_csv('data/cat_test.csv', index=False)"
   ]
  },
  {
   "cell_type": "code",
   "execution_count": 48,
   "metadata": {},
   "outputs": [],
   "source": [
    "combined_percent = (combined.iloc[:,2:].rank(axis=0)/combined.iloc[:,2:].rank(axis=0).max())"
   ]
  },
  {
   "cell_type": "code",
   "execution_count": 49,
   "metadata": {},
   "outputs": [],
   "source": [
    "combined_percent = pd.concat([combined[['id','target']], combined_percent], axis=1)"
   ]
  },
  {
   "cell_type": "code",
   "execution_count": 55,
   "metadata": {},
   "outputs": [],
   "source": [
    "combined_percent.iloc[train,:].to_csv('data/percent_train.csv', index=False)\n",
    "combined_percent.iloc[test,:].to_csv('data/percent_test.csv', index=False)"
   ]
  },
  {
   "cell_type": "code",
   "execution_count": null,
   "metadata": {},
   "outputs": [],
   "source": []
  }
 ],
 "metadata": {
  "kernelspec": {
   "display_name": "Python 3",
   "language": "python",
   "name": "python3"
  },
  "language_info": {
   "codemirror_mode": {
    "name": "ipython",
    "version": 3
   },
   "file_extension": ".py",
   "mimetype": "text/x-python",
   "name": "python",
   "nbconvert_exporter": "python",
   "pygments_lexer": "ipython3",
   "version": "3.6.2"
  }
 },
 "nbformat": 4,
 "nbformat_minor": 2
}
