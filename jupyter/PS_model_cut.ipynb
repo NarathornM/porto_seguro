{
 "cells": [
  {
   "cell_type": "code",
   "execution_count": 3,
   "metadata": {
    "collapsed": true
   },
   "outputs": [],
   "source": [
    "import pandas as pd\n",
    "import numpy as np\n",
    "import xgboost as xgb"
   ]
  },
  {
   "cell_type": "code",
   "execution_count": 4,
   "metadata": {
    "collapsed": true
   },
   "outputs": [],
   "source": [
    "train = pd.read_csv('data/train.csv', na_values=-1)\n",
    "train = train.fillna(train.median())"
   ]
  },
  {
   "cell_type": "code",
   "execution_count": 5,
   "metadata": {
    "collapsed": true
   },
   "outputs": [],
   "source": [
    "train = train.drop(train.columns[train.columns.str.startswith('ps_calc') == True], axis=1)\n",
    "train = train.drop(['ps_ind_10_bin','ps_ind_11_bin','ps_ind_12_bin','ps_ind_13_bin',\n",
    "                    'ps_ind_18_bin','ps_car_03_cat', 'ps_car_10_cat'], axis=1)"
   ]
  },
  {
   "cell_type": "code",
   "execution_count": 15,
   "metadata": {
    "collapsed": true
   },
   "outputs": [],
   "source": [
    "test = pd.read_csv('data/test.csv', na_values=-1)\n",
    "test = test.fillna(test.median())\n",
    "test = test.drop(test.columns[test.columns.str.startswith('ps_calc') == True], axis=1)\n",
    "test = test.drop(['ps_ind_10_bin','ps_ind_11_bin','ps_ind_12_bin','ps_ind_13_bin',\n",
    "                    'ps_ind_18_bin','ps_car_03_cat', 'ps_car_10_cat'], axis=1)\n",
    "X_test = test.drop('id', axis=1)\n",
    "xg_test = xgb.DMatrix(X_test.values)"
   ]
  },
  {
   "cell_type": "code",
   "execution_count": 7,
   "metadata": {
    "collapsed": true
   },
   "outputs": [],
   "source": [
    "# Define the gini metric - from https://www.kaggle.com/c/ClaimPredictionChallenge/discussion/703#5897\n",
    "def gini(actual, pred, cmpcol = 0, sortcol = 1):\n",
    "    assert( len(actual) == len(pred) )\n",
    "    all = np.asarray(np.c_[ actual, pred, np.arange(len(actual)) ], dtype=np.float)\n",
    "    all = all[ np.lexsort((all[:,2], -1*all[:,1])) ]\n",
    "    totalLosses = all[:,0].sum()\n",
    "    giniSum = all[:,0].cumsum().sum() / totalLosses\n",
    "    \n",
    "    giniSum -= (len(actual) + 1) / 2.\n",
    "    return giniSum / len(actual)\n",
    " \n",
    "def gini_normalized(a, p):\n",
    "    return gini(a, p) / gini(a, a)\n",
    "\n",
    "# Create an XGBoost-compatible metric from Gini\n",
    "\n",
    "def gini_xgb(preds, dtrain):\n",
    "    labels = dtrain.get_label()\n",
    "    gini_score = gini_normalized(labels, preds)\n",
    "    return [('gini', gini_score)]"
   ]
  },
  {
   "cell_type": "code",
   "execution_count": 8,
   "metadata": {
    "collapsed": true
   },
   "outputs": [],
   "source": [
    "X = train.drop(['target','id'], axis=1)\n",
    "y = train.target"
   ]
  },
  {
   "cell_type": "code",
   "execution_count": 13,
   "metadata": {
    "collapsed": true
   },
   "outputs": [],
   "source": [
    "from sklearn.model_selection import StratifiedKFold\n",
    "skf = StratifiedKFold(n_splits=5, shuffle=False, random_state=123)\n",
    "X = X.values\n",
    "y = y.values"
   ]
  },
  {
   "cell_type": "code",
   "execution_count": 14,
   "metadata": {
    "collapsed": true
   },
   "outputs": [],
   "source": [
    "param = {'objective': 'binary:logistic', \n",
    "         'eta': 0.01, \n",
    "         'max_depth': 5, \n",
    "         'silent': True, \n",
    "         'nthread': 4, \n",
    "         'tree_method': 'gpu_hist', \n",
    "         'gamma': 0.3, 'min_child_weight': 7, \n",
    "         'subsample': 0.7, \n",
    "         'colsample_bytree': 0.6, \n",
    "         'max_delta_step': 5}"
   ]
  },
  {
   "cell_type": "code",
   "execution_count": 17,
   "metadata": {
    "collapsed": true
   },
   "outputs": [
    {
     "name": "stdout",
     "output_type": "stream",
     "text": [
      "TRAIN: [117955 117960 118013 ..., 595209 595210 595211] TEST: [     0      1      2 ..., 119082 119083 119084]\n",
      "[0]\ttrain-error:0.036447\ttest-error:0.036449\ttrain-gini:0.193286\ttest-gini:0.1803\n",
      "Multiple eval metrics have been passed: 'test-gini' will be used for early stopping.\n",
      "\n",
      "Will train until test-gini hasn't improved in 100 rounds.\n",
      "[100]\ttrain-error:0.036447\ttest-error:0.036449\ttrain-gini:0.266438\ttest-gini:0.253769\n",
      "[200]\ttrain-error:0.036447\ttest-error:0.036449\ttrain-gini:0.272358\ttest-gini:0.257264\n",
      "[300]\ttrain-error:0.036447\ttest-error:0.036449\ttrain-gini:0.280633\ttest-gini:0.261605\n",
      "[400]\ttrain-error:0.036447\ttest-error:0.036449\ttrain-gini:0.292691\ttest-gini:0.267616\n",
      "[500]\ttrain-error:0.036447\ttest-error:0.036449\ttrain-gini:0.304787\ttest-gini:0.272761\n",
      "[600]\ttrain-error:0.036447\ttest-error:0.036449\ttrain-gini:0.315008\ttest-gini:0.276405\n",
      "[700]\ttrain-error:0.036447\ttest-error:0.036449\ttrain-gini:0.324612\ttest-gini:0.279155\n",
      "[800]\ttrain-error:0.036447\ttest-error:0.036449\ttrain-gini:0.332736\ttest-gini:0.281101\n",
      "[900]\ttrain-error:0.036447\ttest-error:0.036449\ttrain-gini:0.339836\ttest-gini:0.282721\n",
      "[1000]\ttrain-error:0.036447\ttest-error:0.036449\ttrain-gini:0.346623\ttest-gini:0.28361\n",
      "[1100]\ttrain-error:0.036447\ttest-error:0.036449\ttrain-gini:0.352626\ttest-gini:0.284287\n",
      "[1200]\ttrain-error:0.036447\ttest-error:0.036449\ttrain-gini:0.358297\ttest-gini:0.284627\n",
      "[1300]\ttrain-error:0.036447\ttest-error:0.036449\ttrain-gini:0.364138\ttest-gini:0.284873\n",
      "[1400]\ttrain-error:0.036447\ttest-error:0.036449\ttrain-gini:0.369824\ttest-gini:0.285309\n",
      "[1500]\ttrain-error:0.036447\ttest-error:0.036449\ttrain-gini:0.374761\ttest-gini:0.28535\n",
      "Stopping. Best iteration:\n",
      "[1427]\ttrain-error:0.036447\ttest-error:0.036449\ttrain-gini:0.37117\ttest-gini:0.285437\n",
      "\n",
      "0.285437\n",
      "TRAIN: [     0      1      2 ..., 595209 595210 595211] TEST: [117955 117960 118013 ..., 238146 238179 238185]\n",
      "[0]\ttrain-error:0.036447\ttest-error:0.036449\ttrain-gini:0.189477\ttest-gini:0.186991\n",
      "Multiple eval metrics have been passed: 'test-gini' will be used for early stopping.\n",
      "\n",
      "Will train until test-gini hasn't improved in 100 rounds.\n",
      "[100]\ttrain-error:0.036447\ttest-error:0.036449\ttrain-gini:0.266386\ttest-gini:0.246198\n",
      "[200]\ttrain-error:0.036447\ttest-error:0.036449\ttrain-gini:0.271395\ttest-gini:0.249104\n",
      "[300]\ttrain-error:0.036447\ttest-error:0.036449\ttrain-gini:0.280285\ttest-gini:0.255582\n",
      "[400]\ttrain-error:0.036447\ttest-error:0.036449\ttrain-gini:0.291108\ttest-gini:0.262098\n",
      "[500]\ttrain-error:0.036447\ttest-error:0.036449\ttrain-gini:0.303455\ttest-gini:0.269672\n",
      "[600]\ttrain-error:0.036447\ttest-error:0.036449\ttrain-gini:0.313424\ttest-gini:0.274576\n",
      "[700]\ttrain-error:0.036447\ttest-error:0.036449\ttrain-gini:0.322538\ttest-gini:0.278324\n",
      "[800]\ttrain-error:0.036447\ttest-error:0.036449\ttrain-gini:0.330656\ttest-gini:0.281035\n",
      "[900]\ttrain-error:0.036447\ttest-error:0.036449\ttrain-gini:0.337798\ttest-gini:0.28296\n",
      "[1000]\ttrain-error:0.036447\ttest-error:0.036449\ttrain-gini:0.344739\ttest-gini:0.284181\n",
      "[1100]\ttrain-error:0.036447\ttest-error:0.036449\ttrain-gini:0.350776\ttest-gini:0.284973\n",
      "[1200]\ttrain-error:0.036447\ttest-error:0.036449\ttrain-gini:0.356427\ttest-gini:0.285606\n",
      "[1300]\ttrain-error:0.036447\ttest-error:0.036449\ttrain-gini:0.36179\ttest-gini:0.28601\n",
      "Stopping. Best iteration:\n",
      "[1297]\ttrain-error:0.036447\ttest-error:0.036449\ttrain-gini:0.361713\ttest-gini:0.286063\n",
      "\n",
      "0.286063\n",
      "TRAIN: [     0      1      2 ..., 595209 595210 595211] TEST: [238077 238078 238080 ..., 357131 357132 357133]\n",
      "[0]\ttrain-error:0.036447\ttest-error:0.036449\ttrain-gini:0.196121\ttest-gini:0.187777\n",
      "Multiple eval metrics have been passed: 'test-gini' will be used for early stopping.\n",
      "\n",
      "Will train until test-gini hasn't improved in 100 rounds.\n",
      "[100]\ttrain-error:0.036447\ttest-error:0.036449\ttrain-gini:0.267692\ttest-gini:0.252111\n",
      "[200]\ttrain-error:0.036447\ttest-error:0.036449\ttrain-gini:0.27312\ttest-gini:0.254994\n",
      "[300]\ttrain-error:0.036447\ttest-error:0.036449\ttrain-gini:0.28211\ttest-gini:0.258666\n",
      "[400]\ttrain-error:0.036447\ttest-error:0.036449\ttrain-gini:0.293805\ttest-gini:0.263783\n",
      "[500]\ttrain-error:0.036447\ttest-error:0.036449\ttrain-gini:0.305265\ttest-gini:0.269321\n",
      "[600]\ttrain-error:0.036447\ttest-error:0.036449\ttrain-gini:0.315134\ttest-gini:0.273065\n",
      "[700]\ttrain-error:0.036447\ttest-error:0.036449\ttrain-gini:0.324412\ttest-gini:0.276211\n",
      "[800]\ttrain-error:0.036447\ttest-error:0.036449\ttrain-gini:0.332737\ttest-gini:0.279124\n",
      "[900]\ttrain-error:0.036447\ttest-error:0.036449\ttrain-gini:0.340007\ttest-gini:0.280475\n",
      "[1000]\ttrain-error:0.036447\ttest-error:0.036449\ttrain-gini:0.346953\ttest-gini:0.281825\n",
      "[1100]\ttrain-error:0.036447\ttest-error:0.036449\ttrain-gini:0.353172\ttest-gini:0.282394\n",
      "[1200]\ttrain-error:0.036447\ttest-error:0.036449\ttrain-gini:0.359095\ttest-gini:0.282672\n",
      "[1300]\ttrain-error:0.036447\ttest-error:0.036449\ttrain-gini:0.364866\ttest-gini:0.283054\n",
      "[1400]\ttrain-error:0.036447\ttest-error:0.036449\ttrain-gini:0.370281\ttest-gini:0.28297\n",
      "[1500]\ttrain-error:0.036447\ttest-error:0.036449\ttrain-gini:0.374967\ttest-gini:0.283074\n",
      "Stopping. Best iteration:\n",
      "[1427]\ttrain-error:0.036447\ttest-error:0.036449\ttrain-gini:0.371624\ttest-gini:0.283152\n",
      "\n",
      "0.283152\n",
      "TRAIN: [     0      1      2 ..., 595209 595210 595211] TEST: [356994 356999 357005 ..., 476578 476633 476667]\n",
      "[0]\ttrain-error:0.036447\ttest-error:0.036449\ttrain-gini:0.198661\ttest-gini:0.196109\n",
      "Multiple eval metrics have been passed: 'test-gini' will be used for early stopping.\n",
      "\n",
      "Will train until test-gini hasn't improved in 100 rounds.\n",
      "[100]\ttrain-error:0.036447\ttest-error:0.036449\ttrain-gini:0.264849\ttest-gini:0.251218\n",
      "[200]\ttrain-error:0.036447\ttest-error:0.036449\ttrain-gini:0.270414\ttest-gini:0.255257\n",
      "[300]\ttrain-error:0.036447\ttest-error:0.036449\ttrain-gini:0.278921\ttest-gini:0.260436\n",
      "[400]\ttrain-error:0.036447\ttest-error:0.036449\ttrain-gini:0.29052\ttest-gini:0.267424\n",
      "[500]\ttrain-error:0.036447\ttest-error:0.036449\ttrain-gini:0.30241\ttest-gini:0.274312\n",
      "[600]\ttrain-error:0.036447\ttest-error:0.036449\ttrain-gini:0.312843\ttest-gini:0.279602\n",
      "[700]\ttrain-error:0.036447\ttest-error:0.036449\ttrain-gini:0.321799\ttest-gini:0.283003\n",
      "[800]\ttrain-error:0.036447\ttest-error:0.036449\ttrain-gini:0.330383\ttest-gini:0.285951\n",
      "[900]\ttrain-error:0.036447\ttest-error:0.036449\ttrain-gini:0.337362\ttest-gini:0.287818\n",
      "[1000]\ttrain-error:0.036447\ttest-error:0.036449\ttrain-gini:0.343997\ttest-gini:0.289054\n",
      "[1100]\ttrain-error:0.036447\ttest-error:0.036449\ttrain-gini:0.349964\ttest-gini:0.289846\n",
      "[1200]\ttrain-error:0.036447\ttest-error:0.036449\ttrain-gini:0.355857\ttest-gini:0.2906\n",
      "[1300]\ttrain-error:0.036447\ttest-error:0.036449\ttrain-gini:0.361676\ttest-gini:0.29131\n",
      "[1400]\ttrain-error:0.036447\ttest-error:0.036449\ttrain-gini:0.366814\ttest-gini:0.291917\n",
      "[1500]\ttrain-error:0.036447\ttest-error:0.036449\ttrain-gini:0.371741\ttest-gini:0.292277\n",
      "[1600]\ttrain-error:0.036447\ttest-error:0.036449\ttrain-gini:0.3763\ttest-gini:0.292655\n",
      "[1700]\ttrain-error:0.036447\ttest-error:0.036449\ttrain-gini:0.381267\ttest-gini:0.292701\n",
      "Stopping. Best iteration:\n",
      "[1642]\ttrain-error:0.036447\ttest-error:0.036449\ttrain-gini:0.378351\ttest-gini:0.292812\n",
      "\n",
      "0.292812\n",
      "TRAIN: [     0      1      2 ..., 476578 476633 476667] TEST: [476155 476156 476157 ..., 595209 595210 595211]\n",
      "[0]\ttrain-error:0.036449\ttest-error:0.036441\ttrain-gini:0.2049\ttest-gini:0.189588\n",
      "Multiple eval metrics have been passed: 'test-gini' will be used for early stopping.\n",
      "\n",
      "Will train until test-gini hasn't improved in 100 rounds.\n",
      "[100]\ttrain-error:0.036449\ttest-error:0.036441\ttrain-gini:0.266072\ttest-gini:0.246672\n",
      "[200]\ttrain-error:0.036449\ttest-error:0.036441\ttrain-gini:0.271851\ttest-gini:0.248617\n",
      "[300]\ttrain-error:0.036449\ttest-error:0.036441\ttrain-gini:0.281055\ttest-gini:0.25301\n",
      "[400]\ttrain-error:0.036449\ttest-error:0.036441\ttrain-gini:0.293405\ttest-gini:0.259009\n",
      "[500]\ttrain-error:0.036449\ttest-error:0.036441\ttrain-gini:0.305978\ttest-gini:0.26451\n",
      "[600]\ttrain-error:0.036449\ttest-error:0.036441\ttrain-gini:0.315763\ttest-gini:0.268158\n",
      "[700]\ttrain-error:0.036449\ttest-error:0.036441\ttrain-gini:0.324831\ttest-gini:0.270376\n",
      "[800]\ttrain-error:0.036449\ttest-error:0.036441\ttrain-gini:0.333303\ttest-gini:0.272577\n",
      "[900]\ttrain-error:0.036449\ttest-error:0.036441\ttrain-gini:0.340862\ttest-gini:0.273833\n",
      "[1000]\ttrain-error:0.036449\ttest-error:0.036441\ttrain-gini:0.347315\ttest-gini:0.274125\n"
     ]
    },
    {
     "name": "stdout",
     "output_type": "stream",
     "text": [
      "[1100]\ttrain-error:0.036449\ttest-error:0.036441\ttrain-gini:0.353562\ttest-gini:0.274742\n",
      "[1200]\ttrain-error:0.036447\ttest-error:0.036441\ttrain-gini:0.359261\ttest-gini:0.275255\n",
      "[1300]\ttrain-error:0.036447\ttest-error:0.036441\ttrain-gini:0.364932\ttest-gini:0.275452\n",
      "Stopping. Best iteration:\n",
      "[1289]\ttrain-error:0.036447\ttest-error:0.036441\ttrain-gini:0.364168\ttest-gini:0.275508\n",
      "\n",
      "0.275508\n"
     ]
    }
   ],
   "source": [
    "from sklearn.externals import joblib\n",
    "model_num = 1\n",
    "score = []\n",
    "pred = pd.DataFrame({'id': test.id,'target': np.zeros_like(test.id)})\n",
    "for train_index, val_index in skf.split(X, y):\n",
    "    print(\"TRAIN:\", train_index, \"TEST:\", val_index)\n",
    "    X_train, X_val = X[train_index], X[val_index]\n",
    "    y_train, y_val = y[train_index], y[val_index]\n",
    "    # Set Var for XGB\n",
    "    xg_train = xgb.DMatrix(X_train, label=y_train)\n",
    "    xg_val = xgb.DMatrix(X_val, label=y_val)\n",
    "    watchlist = [(xg_train, 'train'), (xg_val, 'test')]\n",
    "    #\n",
    "    xgb_skf = xgb.train(param, xg_train, 10000, watchlist, early_stopping_rounds=100\n",
    "                        , feval=gini_xgb, maximize=True, verbose_eval=100)\n",
    "    print(xgb_skf.best_score)\n",
    "    score.append(xgb_skf.best_score)\n",
    "    pred_lap = xgb_skf.predict(xg_test)\n",
    "    pred['target'] += pred_lap \n",
    "#     joblib.dump(xgb_skf, 'model/xgb'+str(model_num)+'.pkl')\n",
    "#     model_num += 1'\n",
    "pred['target'] = pred['target']/5"
   ]
  },
  {
   "cell_type": "code",
   "execution_count": 19,
   "metadata": {
    "collapsed": true
   },
   "outputs": [],
   "source": [
    "pred.to_csv('sub/sub15.csv', index=False)"
   ]
  },
  {
   "cell_type": "code",
   "execution_count": 18,
   "metadata": {},
   "outputs": [
    {
     "data": {
      "text/plain": [
       "0.28459440000000003"
      ]
     },
     "execution_count": 18,
     "metadata": {},
     "output_type": "execute_result"
    }
   ],
   "source": [
    "np.mean(score)"
   ]
  },
  {
   "cell_type": "code",
   "execution_count": 24,
   "metadata": {
    "collapsed": true
   },
   "outputs": [],
   "source": [
    "train = pd.get_dummies(train, columns=train.columns[train.columns.str.endswith('cat')==True])"
   ]
  },
  {
   "cell_type": "code",
   "execution_count": 25,
   "metadata": {},
   "outputs": [
    {
     "data": {
      "text/plain": [
       "(595212, 190)"
      ]
     },
     "execution_count": 25,
     "metadata": {},
     "output_type": "execute_result"
    }
   ],
   "source": [
    "train.shape"
   ]
  },
  {
   "cell_type": "code",
   "execution_count": 1,
   "metadata": {
    "collapsed": true
   },
   "outputs": [],
   "source": [
    "import lightgbm as lgb"
   ]
  },
  {
   "cell_type": "code",
   "execution_count": 12,
   "metadata": {
    "collapsed": true
   },
   "outputs": [],
   "source": [
    "# custom objective function (similar to auc)\n",
    "\n",
    "def gini(y, pred):\n",
    "    g = np.asarray(np.c_[y, pred, np.arange(len(y)) ], dtype=np.float)\n",
    "    g = g[np.lexsort((g[:,2], -1*g[:,1]))]\n",
    "    gs = g[:,0].cumsum().sum() / g[:,0].sum()\n",
    "    gs -= (len(y) + 1) / 2.\n",
    "    return gs / len(y)\n",
    "\n",
    "def gini_xgb(pred, y):\n",
    "    y = y.get_label()\n",
    "    return 'gini', gini(y, pred) / gini(y, y)\n",
    "\n",
    "def gini_lgb(preds, dtrain):\n",
    "    y = list(dtrain.get_label())\n",
    "    score = gini(y, preds) / gini(y, y)\n",
    "    return 'gini', score, True"
   ]
  },
  {
   "cell_type": "code",
   "execution_count": 9,
   "metadata": {},
   "outputs": [],
   "source": [
    "from sklearn.model_selection import train_test_split  \n",
    "from sklearn.model_selection import cross_val_score\n",
    "from sklearn.metrics import accuracy_score\n",
    "\n",
    "X_train, X_val, y_train, y_val = train_test_split(X, y , random_state=123, test_size=0.2)"
   ]
  },
  {
   "cell_type": "code",
   "execution_count": 11,
   "metadata": {},
   "outputs": [],
   "source": [
    "# create dataset for lightgbm\n",
    "lgb_train = lgb.Dataset(X_train, y_train)\n",
    "lgb_eval = lgb.Dataset(X_val, y_val, reference=lgb_train)"
   ]
  },
  {
   "cell_type": "code",
   "execution_count": 16,
   "metadata": {
    "collapsed": true
   },
   "outputs": [],
   "source": [
    "params = {'device': 'gpu',\n",
    "          'num_threads':4,\n",
    "          'metric': 'auc', \n",
    "          'learning_rate' : 0.01, \n",
    "          'max_depth':5,  \n",
    "          'objective': 'binary', \n",
    "          'feature_fraction': 0.6,\n",
    "          'bagging_fraction':0.7,\n",
    "          'bagging_freq':5,}"
   ]
  },
  {
   "cell_type": "code",
   "execution_count": null,
   "metadata": {},
   "outputs": [],
   "source": [
    "lgb_model = lgb.train(params, lgb_train, 10000, lgb_eval, verbose_eval=100, \n",
    "                      feval=gini_lgb, early_stopping_rounds=100)"
   ]
  },
  {
   "cell_type": "code",
   "execution_count": null,
   "metadata": {
    "collapsed": true
   },
   "outputs": [],
   "source": []
  }
 ],
 "metadata": {
  "kernelspec": {
   "display_name": "Python 3",
   "language": "python",
   "name": "python3"
  },
  "language_info": {
   "codemirror_mode": {
    "name": "ipython",
    "version": 3
   },
   "file_extension": ".py",
   "mimetype": "text/x-python",
   "name": "python",
   "nbconvert_exporter": "python",
   "pygments_lexer": "ipython3",
   "version": "3.6.2"
  }
 },
 "nbformat": 4,
 "nbformat_minor": 2
}
