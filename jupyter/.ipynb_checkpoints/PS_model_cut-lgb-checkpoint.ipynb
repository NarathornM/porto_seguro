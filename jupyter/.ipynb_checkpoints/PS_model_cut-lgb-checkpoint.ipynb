{
 "cells": [
  {
   "cell_type": "code",
   "execution_count": 3,
   "metadata": {},
   "outputs": [],
   "source": [
    "import sys\n",
    "sys.path.append('../')\n",
    "import pandas as pd\n",
    "import numpy as np\n",
    "import xgboost as xgb\n",
    "import lightgbm as lgb"
   ]
  },
  {
   "cell_type": "code",
   "execution_count": 6,
   "metadata": {},
   "outputs": [
    {
     "data": {
      "text/plain": [
       "['',\n",
       " 'C:\\\\Users\\\\Zigkie\\\\Anaconda3\\\\python36.zip',\n",
       " 'C:\\\\Users\\\\Zigkie\\\\Anaconda3\\\\DLLs',\n",
       " 'C:\\\\Users\\\\Zigkie\\\\Anaconda3\\\\lib',\n",
       " 'C:\\\\Users\\\\Zigkie\\\\Anaconda3',\n",
       " 'C:\\\\Users\\\\Zigkie\\\\Anaconda3\\\\lib\\\\site-packages',\n",
       " 'C:\\\\Users\\\\Zigkie\\\\Anaconda3\\\\lib\\\\site-packages\\\\Babel-2.5.0-py3.6.egg',\n",
       " 'C:\\\\Users\\\\Zigkie\\\\Anaconda3\\\\lib\\\\site-packages\\\\xgboost-0.6-py3.6.egg',\n",
       " 'C:\\\\Users\\\\Zigkie\\\\Anaconda3\\\\lib\\\\site-packages\\\\xgbfir-0.2-py3.6.egg',\n",
       " 'C:\\\\Users\\\\Zigkie\\\\Anaconda3\\\\lib\\\\site-packages\\\\win32',\n",
       " 'C:\\\\Users\\\\Zigkie\\\\Anaconda3\\\\lib\\\\site-packages\\\\win32\\\\lib',\n",
       " 'C:\\\\Users\\\\Zigkie\\\\Anaconda3\\\\lib\\\\site-packages\\\\Pythonwin',\n",
       " 'C:\\\\Users\\\\Zigkie\\\\Anaconda3\\\\lib\\\\site-packages\\\\IPython\\\\extensions',\n",
       " 'C:\\\\Users\\\\Zigkie\\\\.ipython',\n",
       " '../']"
      ]
     },
     "execution_count": 6,
     "metadata": {},
     "output_type": "execute_result"
    }
   ],
   "source": [
    "sys.path"
   ]
  },
  {
   "cell_type": "code",
   "execution_count": 4,
   "metadata": {},
   "outputs": [],
   "source": [
    "# custom objective function (similar to auc)\n",
    "\n",
    "def gini(y, pred):\n",
    "    g = np.asarray(np.c_[y, pred, np.arange(len(y)) ], dtype=np.float)\n",
    "    g = g[np.lexsort((g[:,2], -1*g[:,1]))]\n",
    "    gs = g[:,0].cumsum().sum() / g[:,0].sum()\n",
    "    gs -= (len(y) + 1) / 2.\n",
    "    return gs / len(y)\n",
    "\n",
    "def gini_xgb(pred, y):\n",
    "    y = y.get_label()\n",
    "    return 'gini', gini(y, pred) / gini(y, y)\n",
    "\n",
    "def gini_lgb(preds, dtrain):\n",
    "    y = list(dtrain.get_label())\n",
    "    score = gini(y, preds) / gini(y, y)\n",
    "    return 'gini', score, True"
   ]
  },
  {
   "cell_type": "code",
   "execution_count": 5,
   "metadata": {},
   "outputs": [
    {
     "ename": "FileNotFoundError",
     "evalue": "File b'data/train.csv' does not exist",
     "output_type": "error",
     "traceback": [
      "\u001b[1;31m---------------------------------------------------------------------------\u001b[0m",
      "\u001b[1;31mFileNotFoundError\u001b[0m                         Traceback (most recent call last)",
      "\u001b[1;32m<ipython-input-5-c333cd1ce6ef>\u001b[0m in \u001b[0;36m<module>\u001b[1;34m()\u001b[0m\n\u001b[1;32m----> 1\u001b[1;33m \u001b[0mtrain\u001b[0m \u001b[1;33m=\u001b[0m \u001b[0mpd\u001b[0m\u001b[1;33m.\u001b[0m\u001b[0mread_csv\u001b[0m\u001b[1;33m(\u001b[0m\u001b[1;34m'data/train.csv'\u001b[0m\u001b[1;33m,\u001b[0m \u001b[0mna_values\u001b[0m\u001b[1;33m=\u001b[0m\u001b[1;33m-\u001b[0m\u001b[1;36m1\u001b[0m\u001b[1;33m)\u001b[0m\u001b[1;33m\u001b[0m\u001b[0m\n\u001b[0m\u001b[0;32m      2\u001b[0m \u001b[0mtrain\u001b[0m \u001b[1;33m=\u001b[0m \u001b[0mtrain\u001b[0m\u001b[1;33m.\u001b[0m\u001b[0mfillna\u001b[0m\u001b[1;33m(\u001b[0m\u001b[0mtrain\u001b[0m\u001b[1;33m.\u001b[0m\u001b[0mmedian\u001b[0m\u001b[1;33m(\u001b[0m\u001b[1;33m)\u001b[0m\u001b[1;33m)\u001b[0m\u001b[1;33m\u001b[0m\u001b[0m\n",
      "\u001b[1;32m~\\Anaconda3\\lib\\site-packages\\pandas\\io\\parsers.py\u001b[0m in \u001b[0;36mparser_f\u001b[1;34m(filepath_or_buffer, sep, delimiter, header, names, index_col, usecols, squeeze, prefix, mangle_dupe_cols, dtype, engine, converters, true_values, false_values, skipinitialspace, skiprows, nrows, na_values, keep_default_na, na_filter, verbose, skip_blank_lines, parse_dates, infer_datetime_format, keep_date_col, date_parser, dayfirst, iterator, chunksize, compression, thousands, decimal, lineterminator, quotechar, quoting, escapechar, comment, encoding, dialect, tupleize_cols, error_bad_lines, warn_bad_lines, skipfooter, skip_footer, doublequote, delim_whitespace, as_recarray, compact_ints, use_unsigned, low_memory, buffer_lines, memory_map, float_precision)\u001b[0m\n\u001b[0;32m    653\u001b[0m                     skip_blank_lines=skip_blank_lines)\n\u001b[0;32m    654\u001b[0m \u001b[1;33m\u001b[0m\u001b[0m\n\u001b[1;32m--> 655\u001b[1;33m         \u001b[1;32mreturn\u001b[0m \u001b[0m_read\u001b[0m\u001b[1;33m(\u001b[0m\u001b[0mfilepath_or_buffer\u001b[0m\u001b[1;33m,\u001b[0m \u001b[0mkwds\u001b[0m\u001b[1;33m)\u001b[0m\u001b[1;33m\u001b[0m\u001b[0m\n\u001b[0m\u001b[0;32m    656\u001b[0m \u001b[1;33m\u001b[0m\u001b[0m\n\u001b[0;32m    657\u001b[0m     \u001b[0mparser_f\u001b[0m\u001b[1;33m.\u001b[0m\u001b[0m__name__\u001b[0m \u001b[1;33m=\u001b[0m \u001b[0mname\u001b[0m\u001b[1;33m\u001b[0m\u001b[0m\n",
      "\u001b[1;32m~\\Anaconda3\\lib\\site-packages\\pandas\\io\\parsers.py\u001b[0m in \u001b[0;36m_read\u001b[1;34m(filepath_or_buffer, kwds)\u001b[0m\n\u001b[0;32m    403\u001b[0m \u001b[1;33m\u001b[0m\u001b[0m\n\u001b[0;32m    404\u001b[0m     \u001b[1;31m# Create the parser.\u001b[0m\u001b[1;33m\u001b[0m\u001b[1;33m\u001b[0m\u001b[0m\n\u001b[1;32m--> 405\u001b[1;33m     \u001b[0mparser\u001b[0m \u001b[1;33m=\u001b[0m \u001b[0mTextFileReader\u001b[0m\u001b[1;33m(\u001b[0m\u001b[0mfilepath_or_buffer\u001b[0m\u001b[1;33m,\u001b[0m \u001b[1;33m**\u001b[0m\u001b[0mkwds\u001b[0m\u001b[1;33m)\u001b[0m\u001b[1;33m\u001b[0m\u001b[0m\n\u001b[0m\u001b[0;32m    406\u001b[0m \u001b[1;33m\u001b[0m\u001b[0m\n\u001b[0;32m    407\u001b[0m     \u001b[1;32mif\u001b[0m \u001b[0mchunksize\u001b[0m \u001b[1;32mor\u001b[0m \u001b[0miterator\u001b[0m\u001b[1;33m:\u001b[0m\u001b[1;33m\u001b[0m\u001b[0m\n",
      "\u001b[1;32m~\\Anaconda3\\lib\\site-packages\\pandas\\io\\parsers.py\u001b[0m in \u001b[0;36m__init__\u001b[1;34m(self, f, engine, **kwds)\u001b[0m\n\u001b[0;32m    762\u001b[0m             \u001b[0mself\u001b[0m\u001b[1;33m.\u001b[0m\u001b[0moptions\u001b[0m\u001b[1;33m[\u001b[0m\u001b[1;34m'has_index_names'\u001b[0m\u001b[1;33m]\u001b[0m \u001b[1;33m=\u001b[0m \u001b[0mkwds\u001b[0m\u001b[1;33m[\u001b[0m\u001b[1;34m'has_index_names'\u001b[0m\u001b[1;33m]\u001b[0m\u001b[1;33m\u001b[0m\u001b[0m\n\u001b[0;32m    763\u001b[0m \u001b[1;33m\u001b[0m\u001b[0m\n\u001b[1;32m--> 764\u001b[1;33m         \u001b[0mself\u001b[0m\u001b[1;33m.\u001b[0m\u001b[0m_make_engine\u001b[0m\u001b[1;33m(\u001b[0m\u001b[0mself\u001b[0m\u001b[1;33m.\u001b[0m\u001b[0mengine\u001b[0m\u001b[1;33m)\u001b[0m\u001b[1;33m\u001b[0m\u001b[0m\n\u001b[0m\u001b[0;32m    765\u001b[0m \u001b[1;33m\u001b[0m\u001b[0m\n\u001b[0;32m    766\u001b[0m     \u001b[1;32mdef\u001b[0m \u001b[0mclose\u001b[0m\u001b[1;33m(\u001b[0m\u001b[0mself\u001b[0m\u001b[1;33m)\u001b[0m\u001b[1;33m:\u001b[0m\u001b[1;33m\u001b[0m\u001b[0m\n",
      "\u001b[1;32m~\\Anaconda3\\lib\\site-packages\\pandas\\io\\parsers.py\u001b[0m in \u001b[0;36m_make_engine\u001b[1;34m(self, engine)\u001b[0m\n\u001b[0;32m    983\u001b[0m     \u001b[1;32mdef\u001b[0m \u001b[0m_make_engine\u001b[0m\u001b[1;33m(\u001b[0m\u001b[0mself\u001b[0m\u001b[1;33m,\u001b[0m \u001b[0mengine\u001b[0m\u001b[1;33m=\u001b[0m\u001b[1;34m'c'\u001b[0m\u001b[1;33m)\u001b[0m\u001b[1;33m:\u001b[0m\u001b[1;33m\u001b[0m\u001b[0m\n\u001b[0;32m    984\u001b[0m         \u001b[1;32mif\u001b[0m \u001b[0mengine\u001b[0m \u001b[1;33m==\u001b[0m \u001b[1;34m'c'\u001b[0m\u001b[1;33m:\u001b[0m\u001b[1;33m\u001b[0m\u001b[0m\n\u001b[1;32m--> 985\u001b[1;33m             \u001b[0mself\u001b[0m\u001b[1;33m.\u001b[0m\u001b[0m_engine\u001b[0m \u001b[1;33m=\u001b[0m \u001b[0mCParserWrapper\u001b[0m\u001b[1;33m(\u001b[0m\u001b[0mself\u001b[0m\u001b[1;33m.\u001b[0m\u001b[0mf\u001b[0m\u001b[1;33m,\u001b[0m \u001b[1;33m**\u001b[0m\u001b[0mself\u001b[0m\u001b[1;33m.\u001b[0m\u001b[0moptions\u001b[0m\u001b[1;33m)\u001b[0m\u001b[1;33m\u001b[0m\u001b[0m\n\u001b[0m\u001b[0;32m    986\u001b[0m         \u001b[1;32melse\u001b[0m\u001b[1;33m:\u001b[0m\u001b[1;33m\u001b[0m\u001b[0m\n\u001b[0;32m    987\u001b[0m             \u001b[1;32mif\u001b[0m \u001b[0mengine\u001b[0m \u001b[1;33m==\u001b[0m \u001b[1;34m'python'\u001b[0m\u001b[1;33m:\u001b[0m\u001b[1;33m\u001b[0m\u001b[0m\n",
      "\u001b[1;32m~\\Anaconda3\\lib\\site-packages\\pandas\\io\\parsers.py\u001b[0m in \u001b[0;36m__init__\u001b[1;34m(self, src, **kwds)\u001b[0m\n\u001b[0;32m   1603\u001b[0m         \u001b[0mkwds\u001b[0m\u001b[1;33m[\u001b[0m\u001b[1;34m'allow_leading_cols'\u001b[0m\u001b[1;33m]\u001b[0m \u001b[1;33m=\u001b[0m \u001b[0mself\u001b[0m\u001b[1;33m.\u001b[0m\u001b[0mindex_col\u001b[0m \u001b[1;32mis\u001b[0m \u001b[1;32mnot\u001b[0m \u001b[1;32mFalse\u001b[0m\u001b[1;33m\u001b[0m\u001b[0m\n\u001b[0;32m   1604\u001b[0m \u001b[1;33m\u001b[0m\u001b[0m\n\u001b[1;32m-> 1605\u001b[1;33m         \u001b[0mself\u001b[0m\u001b[1;33m.\u001b[0m\u001b[0m_reader\u001b[0m \u001b[1;33m=\u001b[0m \u001b[0mparsers\u001b[0m\u001b[1;33m.\u001b[0m\u001b[0mTextReader\u001b[0m\u001b[1;33m(\u001b[0m\u001b[0msrc\u001b[0m\u001b[1;33m,\u001b[0m \u001b[1;33m**\u001b[0m\u001b[0mkwds\u001b[0m\u001b[1;33m)\u001b[0m\u001b[1;33m\u001b[0m\u001b[0m\n\u001b[0m\u001b[0;32m   1606\u001b[0m \u001b[1;33m\u001b[0m\u001b[0m\n\u001b[0;32m   1607\u001b[0m         \u001b[1;31m# XXX\u001b[0m\u001b[1;33m\u001b[0m\u001b[1;33m\u001b[0m\u001b[0m\n",
      "\u001b[1;32mpandas/_libs/parsers.pyx\u001b[0m in \u001b[0;36mpandas._libs.parsers.TextReader.__cinit__ (pandas\\_libs\\parsers.c:4209)\u001b[1;34m()\u001b[0m\n",
      "\u001b[1;32mpandas/_libs/parsers.pyx\u001b[0m in \u001b[0;36mpandas._libs.parsers.TextReader._setup_parser_source (pandas\\_libs\\parsers.c:8873)\u001b[1;34m()\u001b[0m\n",
      "\u001b[1;31mFileNotFoundError\u001b[0m: File b'data/train.csv' does not exist"
     ]
    }
   ],
   "source": [
    "train = pd.read_csv('data/train.csv', na_values=-1)\n",
    "train = train.fillna(train.median())"
   ]
  },
  {
   "cell_type": "code",
   "execution_count": 4,
   "metadata": {
    "collapsed": true
   },
   "outputs": [],
   "source": [
    "train = train.drop(train.columns[train.columns.str.startswith('ps_calc') == True], axis=1)\n",
    "train = train.drop(['ps_ind_10_bin','ps_ind_11_bin','ps_ind_12_bin','ps_ind_13_bin',\n",
    "                    'ps_ind_18_bin','ps_car_03_cat', 'ps_car_10_cat'], axis=1)"
   ]
  },
  {
   "cell_type": "code",
   "execution_count": 5,
   "metadata": {
    "collapsed": true
   },
   "outputs": [],
   "source": [
    "train = pd.get_dummies(train, columns=train.columns[train.columns.str.endswith('cat')==True])"
   ]
  },
  {
   "cell_type": "code",
   "execution_count": 6,
   "metadata": {
    "collapsed": true
   },
   "outputs": [],
   "source": [
    "X = train.drop(['target','id'], axis=1)\n",
    "y = train.target"
   ]
  },
  {
   "cell_type": "code",
   "execution_count": 7,
   "metadata": {
    "collapsed": true
   },
   "outputs": [],
   "source": [
    "test = pd.read_csv('data/test.csv', na_values=-1)\n",
    "test = test.fillna(test.median())\n",
    "test = test.drop(test.columns[test.columns.str.startswith('ps_calc') == True], axis=1)\n",
    "test = test.drop(['ps_ind_10_bin','ps_ind_11_bin','ps_ind_12_bin','ps_ind_13_bin',\n",
    "                    'ps_ind_18_bin','ps_car_03_cat', 'ps_car_10_cat'], axis=1)\n",
    "test = pd.get_dummies(test, columns=test.columns[test.columns.str.endswith('cat')==True])\n",
    "X_test = test.drop('id', axis=1)"
   ]
  },
  {
   "cell_type": "code",
   "execution_count": 8,
   "metadata": {
    "collapsed": true
   },
   "outputs": [],
   "source": [
    "from sklearn.model_selection import StratifiedKFold\n",
    "skf = StratifiedKFold(n_splits=5, shuffle=False, random_state=123)\n",
    "X = X.values\n",
    "y = y.values"
   ]
  },
  {
   "cell_type": "code",
   "execution_count": 9,
   "metadata": {
    "collapsed": true
   },
   "outputs": [],
   "source": [
    "# # create dataset for lightgbm\n",
    "# lgb_train = lgb.Dataset(X_train, y_train)\n",
    "# lgb_val = lgb.Dataset(X_val, y_val, reference=lgb_train)"
   ]
  },
  {
   "cell_type": "code",
   "execution_count": 10,
   "metadata": {
    "collapsed": true
   },
   "outputs": [],
   "source": [
    "params = {'device': 'gpu',\n",
    "          'verbosity': 0, \n",
    "          'metric': 'auc', \n",
    "          'objective': 'binary', \n",
    "          'learning_rate': 0.01, \n",
    "          'max_depth': 6, \n",
    "          'min_gain_to_split': 0.1, \n",
    "          'min_sum_hessian_in_leaf': 7, \n",
    "          'poission_max_delta_step': 7, \n",
    "          'bagging_fraction': 0.9, \n",
    "          'feature_fraction': 0.6}"
   ]
  },
  {
   "cell_type": "code",
   "execution_count": null,
   "metadata": {
    "scrolled": false
   },
   "outputs": [
    {
     "name": "stdout",
     "output_type": "stream",
     "text": [
      "TRAIN: [117955 117960 118013 ..., 595209 595210 595211] TEST: [     0      1      2 ..., 119082 119083 119084]\n",
      "Training until validation scores don't improve for 100 rounds.\n",
      "[100]\tvalid_0's auc: 0.627807\tvalid_0's gini: 0.255613\n",
      "[200]\tvalid_0's auc: 0.629344\tvalid_0's gini: 0.258689\n",
      "[300]\tvalid_0's auc: 0.632327\tvalid_0's gini: 0.264653\n",
      "[400]\tvalid_0's auc: 0.635259\tvalid_0's gini: 0.270518\n",
      "[500]\tvalid_0's auc: 0.637541\tvalid_0's gini: 0.275082\n",
      "[600]\tvalid_0's auc: 0.639173\tvalid_0's gini: 0.278347\n",
      "[700]\tvalid_0's auc: 0.640435\tvalid_0's gini: 0.280871\n",
      "[800]\tvalid_0's auc: 0.641172\tvalid_0's gini: 0.282345\n",
      "[900]\tvalid_0's auc: 0.641636\tvalid_0's gini: 0.283273\n",
      "[1000]\tvalid_0's auc: 0.641957\tvalid_0's gini: 0.283914\n",
      "[1100]\tvalid_0's auc: 0.642136\tvalid_0's gini: 0.284272\n",
      "[1200]\tvalid_0's auc: 0.642141\tvalid_0's gini: 0.284282\n",
      "Early stopping, best iteration is:\n",
      "[1184]\tvalid_0's auc: 0.642208\tvalid_0's gini: 0.284415\n",
      "0.284415088253\n",
      "TRAIN: [     0      1      2 ..., 595209 595210 595211] TEST: [117955 117960 118013 ..., 238146 238179 238185]\n",
      "Training until validation scores don't improve for 100 rounds.\n",
      "[100]\tvalid_0's auc: 0.623313\tvalid_0's gini: 0.246625\n",
      "[200]\tvalid_0's auc: 0.624209\tvalid_0's gini: 0.248418\n",
      "[300]\tvalid_0's auc: 0.627224\tvalid_0's gini: 0.254449\n",
      "[400]\tvalid_0's auc: 0.631397\tvalid_0's gini: 0.262793\n",
      "[500]\tvalid_0's auc: 0.634418\tvalid_0's gini: 0.268836\n",
      "[600]\tvalid_0's auc: 0.63722\tvalid_0's gini: 0.27444\n",
      "[700]\tvalid_0's auc: 0.639597\tvalid_0's gini: 0.279194\n",
      "[800]\tvalid_0's auc: 0.64099\tvalid_0's gini: 0.281981\n",
      "[900]\tvalid_0's auc: 0.641727\tvalid_0's gini: 0.283453\n",
      "[1000]\tvalid_0's auc: 0.642277\tvalid_0's gini: 0.284553\n",
      "[1100]\tvalid_0's auc: 0.6425\tvalid_0's gini: 0.285001\n",
      "[1200]\tvalid_0's auc: 0.642745\tvalid_0's gini: 0.28549\n",
      "[1300]\tvalid_0's auc: 0.642693\tvalid_0's gini: 0.285386\n",
      "Early stopping, best iteration is:\n",
      "[1208]\tvalid_0's auc: 0.642754\tvalid_0's gini: 0.285507\n",
      "0.285507158343\n",
      "TRAIN: [     0      1      2 ..., 595209 595210 595211] TEST: [238077 238078 238080 ..., 357131 357132 357133]\n",
      "Training until validation scores don't improve for 100 rounds.\n",
      "[100]\tvalid_0's auc: 0.625585\tvalid_0's gini: 0.25117\n",
      "[200]\tvalid_0's auc: 0.626774\tvalid_0's gini: 0.253547\n",
      "[300]\tvalid_0's auc: 0.630145\tvalid_0's gini: 0.26029\n",
      "[400]\tvalid_0's auc: 0.633425\tvalid_0's gini: 0.266849\n",
      "[500]\tvalid_0's auc: 0.636427\tvalid_0's gini: 0.272854\n",
      "[600]\tvalid_0's auc: 0.638577\tvalid_0's gini: 0.277155\n",
      "[700]\tvalid_0's auc: 0.640234\tvalid_0's gini: 0.280467\n",
      "[800]\tvalid_0's auc: 0.641209\tvalid_0's gini: 0.282418\n",
      "[900]\tvalid_0's auc: 0.641655\tvalid_0's gini: 0.28331\n",
      "[1000]\tvalid_0's auc: 0.641826\tvalid_0's gini: 0.283651\n",
      "[1100]\tvalid_0's auc: 0.642082\tvalid_0's gini: 0.284163\n",
      "Early stopping, best iteration is:\n",
      "[1099]\tvalid_0's auc: 0.642085\tvalid_0's gini: 0.284169\n",
      "0.28416927383\n",
      "TRAIN: [     0      1      2 ..., 595209 595210 595211] TEST: [356994 356999 357005 ..., 476578 476633 476667]\n",
      "Training until validation scores don't improve for 100 rounds.\n",
      "[100]\tvalid_0's auc: 0.625139\tvalid_0's gini: 0.250274\n",
      "[200]\tvalid_0's auc: 0.627892\tvalid_0's gini: 0.255783\n",
      "[300]\tvalid_0's auc: 0.630867\tvalid_0's gini: 0.261734\n",
      "[400]\tvalid_0's auc: 0.634956\tvalid_0's gini: 0.269911\n",
      "[500]\tvalid_0's auc: 0.638333\tvalid_0's gini: 0.276666\n",
      "[600]\tvalid_0's auc: 0.640785\tvalid_0's gini: 0.28157\n",
      "[700]\tvalid_0's auc: 0.642445\tvalid_0's gini: 0.28489\n",
      "[800]\tvalid_0's auc: 0.64355\tvalid_0's gini: 0.2871\n",
      "[900]\tvalid_0's auc: 0.644347\tvalid_0's gini: 0.288694\n",
      "[1000]\tvalid_0's auc: 0.644945\tvalid_0's gini: 0.289891\n",
      "[1100]\tvalid_0's auc: 0.6454\tvalid_0's gini: 0.2908\n",
      "[1200]\tvalid_0's auc: 0.645616\tvalid_0's gini: 0.291233\n",
      "[1300]\tvalid_0's auc: 0.645616\tvalid_0's gini: 0.291233\n",
      "Early stopping, best iteration is:\n",
      "[1283]\tvalid_0's auc: 0.645634\tvalid_0's gini: 0.291268\n",
      "0.291268205226\n",
      "TRAIN: [     0      1      2 ..., 476578 476633 476667] TEST: [476155 476156 476157 ..., 595209 595210 595211]\n",
      "Training until validation scores don't improve for 100 rounds.\n",
      "[100]\tvalid_0's auc: 0.623557\tvalid_0's gini: 0.247116\n",
      "[200]\tvalid_0's auc: 0.625389\tvalid_0's gini: 0.250778\n",
      "[300]\tvalid_0's auc: 0.627691\tvalid_0's gini: 0.255382\n",
      "[400]\tvalid_0's auc: 0.630304\tvalid_0's gini: 0.260609\n",
      "[500]\tvalid_0's auc: 0.632907\tvalid_0's gini: 0.265814\n",
      "[600]\tvalid_0's auc: 0.634449\tvalid_0's gini: 0.268899\n",
      "[700]\tvalid_0's auc: 0.635836\tvalid_0's gini: 0.271672\n",
      "[800]\tvalid_0's auc: 0.636795\tvalid_0's gini: 0.27359\n",
      "[900]\tvalid_0's auc: 0.637358\tvalid_0's gini: 0.274715\n",
      "[1000]\tvalid_0's auc: 0.637851\tvalid_0's gini: 0.275702\n",
      "[1100]\tvalid_0's auc: 0.638084\tvalid_0's gini: 0.276168\n",
      "[1200]\tvalid_0's auc: 0.638084\tvalid_0's gini: 0.276168\n",
      "[1300]\tvalid_0's auc: 0.638442\tvalid_0's gini: 0.276884\n",
      "[1400]\tvalid_0's auc: 0.638427\tvalid_0's gini: 0.276855\n",
      "Early stopping, best iteration is:\n",
      "[1349]\tvalid_0's auc: 0.638509\tvalid_0's gini: 0.277019\n",
      "0.277018635982\n"
     ]
    }
   ],
   "source": [
    "# from sklearn.externals import joblib\n",
    "# model_num = 1\n",
    "score = []\n",
    "pred = pd.DataFrame({'id': test.id,'target': np.zeros_like(test.id)})\n",
    "for train_index, val_index in skf.split(X, y):\n",
    "    print(\"TRAIN:\", train_index, \"TEST:\", val_index)\n",
    "    X_train, X_val = X[train_index], X[val_index]\n",
    "    y_train, y_val = y[train_index], y[val_index]\n",
    "    # Set Var for LGB\n",
    "    lgb_train = lgb.Dataset(X_train, y_train)\n",
    "    lgb_val = lgb.Dataset(X_val, y_val, reference=lgb_train)\n",
    "    #\n",
    "    lgb_skf = lgb.train(params, lgb_train, 10000, lgb_val, verbose_eval=100, \n",
    "                        feval=gini_lgb, early_stopping_rounds=100)\n",
    "    print(lgb_skf.best_score['valid_0']['gini'])\n",
    "    score.append(lgb_skf.best_score['valid_0']['gini'])\n",
    "    pred_lap = lgb_skf.predict(X_test)\n",
    "    pred['target'] += pred_lap \n",
    "#     joblib.dump(xgb_skf, 'model/xgb'+str(model_num)+'.pkl')\n",
    "#     model_num += 1\n",
    "pred['target'] = pred['target']/5"
   ]
  },
  {
   "cell_type": "code",
   "execution_count": 55,
   "metadata": {},
   "outputs": [
    {
     "data": {
      "text/plain": [
       "0.28351218481134333"
      ]
     },
     "execution_count": 55,
     "metadata": {},
     "output_type": "execute_result"
    }
   ],
   "source": [
    "np.mean(score)"
   ]
  },
  {
   "cell_type": "code",
   "execution_count": 59,
   "metadata": {
    "collapsed": true
   },
   "outputs": [],
   "source": [
    "pred.to_csv('sub/sub18.csv', index=False)"
   ]
  },
  {
   "cell_type": "code",
   "execution_count": 60,
   "metadata": {
    "collapsed": true
   },
   "outputs": [],
   "source": [
    "sub16 = pd.read_csv('sub/sub16.csv')"
   ]
  },
  {
   "cell_type": "code",
   "execution_count": 69,
   "metadata": {
    "collapsed": true
   },
   "outputs": [],
   "source": [
    "#combining xgb and lgb with geomean\n",
    "pred_mix = pred\n",
    "pred_mix['target'] = np.sqrt(sub16.target*pred.target)"
   ]
  },
  {
   "cell_type": "code",
   "execution_count": 70,
   "metadata": {
    "collapsed": true
   },
   "outputs": [],
   "source": [
    "pred_mix.to_csv('sub/sub19.csv', index=False)"
   ]
  },
  {
   "cell_type": "code",
   "execution_count": null,
   "metadata": {
    "collapsed": true
   },
   "outputs": [],
   "source": []
  }
 ],
 "metadata": {
  "kernelspec": {
   "display_name": "Python 3",
   "language": "python",
   "name": "python3"
  },
  "language_info": {
   "codemirror_mode": {
    "name": "ipython",
    "version": 3
   },
   "file_extension": ".py",
   "mimetype": "text/x-python",
   "name": "python",
   "nbconvert_exporter": "python",
   "pygments_lexer": "ipython3",
   "version": "3.6.2"
  }
 },
 "nbformat": 4,
 "nbformat_minor": 2
}
