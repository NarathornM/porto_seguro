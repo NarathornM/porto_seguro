{
 "cells": [
  {
   "cell_type": "code",
   "execution_count": 1,
   "metadata": {},
   "outputs": [
    {
     "name": "stdout",
     "output_type": "stream",
     "text": [
      "E:\\gdrive\\Projects\\Porto_Seguro\\stacking\n"
     ]
    }
   ],
   "source": [
    "cd .."
   ]
  },
  {
   "cell_type": "code",
   "execution_count": 17,
   "metadata": {},
   "outputs": [],
   "source": [
    "from utils import utils, gini, xgb_fn\n",
    "\n",
    "import xgboost as xgb\n",
    "import pandas as pd\n",
    "import numpy as np\n",
    "\n",
    "from sklearn.model_selection import StratifiedKFold"
   ]
  },
  {
   "cell_type": "code",
   "execution_count": 3,
   "metadata": {},
   "outputs": [],
   "source": [
    "params_xgb_depth_5 = {}\n",
    "params_xgb_depth_5['tree_method']= 'hist'\n",
    "params_xgb_depth_5['silent']= True \n",
    "params_xgb_depth_5['eval_metric']= 'auc'\n",
    "params_xgb_depth_5['objective']= 'binary:logistic'\n",
    "params_xgb_depth_5['eta']= 0.01\n",
    "params_xgb_depth_5['max_depth']= 5\n",
    "params_xgb_depth_5['gamma']= 0.3\n",
    "params_xgb_depth_5['min_child_weight']= 7\n",
    "params_xgb_depth_5['subsample']= 0.7 \n",
    "params_xgb_depth_5['colsample_bytree']= 0.6\n",
    "params_xgb_depth_5['max_delta_step']= 5"
   ]
  },
  {
   "cell_type": "code",
   "execution_count": 6,
   "metadata": {},
   "outputs": [],
   "source": [
    "combined = utils.load_data()\n",
    "combined = utils.drop_stupid(combined)\n",
    "combined = utils.cat_transform(combined, 'onehot')\n",
    "train, test = utils.recover_train_test_na(combined, fillna=True)"
   ]
  },
  {
   "cell_type": "code",
   "execution_count": 7,
   "metadata": {},
   "outputs": [],
   "source": [
    "y = pd.read_csv('data/train.csv').target"
   ]
  },
  {
   "cell_type": "code",
   "execution_count": 8,
   "metadata": {},
   "outputs": [],
   "source": [
    "X = train.drop('target', axis=1)\n",
    "y = train.target"
   ]
  },
  {
   "cell_type": "code",
   "execution_count": 9,
   "metadata": {},
   "outputs": [
    {
     "name": "stdout",
     "output_type": "stream",
     "text": [
      "sub_sampling_set: 1 length: 43388\n",
      "sub_sampling_set: 2 length: 43388\n",
      "sub_sampling_set: 3 length: 43388\n",
      "sub_sampling_set: 4 length: 43388\n",
      "sub_sampling_set: 5 length: 43388\n",
      "sub_sampling_set: 6 length: 43388\n",
      "sub_sampling_set: 7 length: 43388\n",
      "sub_sampling_set: 8 length: 43388\n",
      "sub_sampling_set: 9 length: 43388\n",
      "sub_sampling_set: 10 length: 43388\n",
      "sub_sampling_set: 11 length: 43388\n",
      "sub_sampling_set: 12 length: 43388\n",
      "sub_sampling_set: 13 length: 43388\n",
      "sub_sampling_set: 14 length: 43388\n",
      "sub_sampling_set: 15 length: 43388\n",
      "sub_sampling_set: 16 length: 43388\n",
      "sub_sampling_set: 17 length: 43388\n",
      "sub_sampling_set: 18 length: 43388\n",
      "sub_sampling_set: 19 length: 43388\n",
      "sub_sampling_set: 20 length: 43388\n",
      "sub_sampling_set: 21 length: 43388\n",
      "sub_sampling_set: 22 length: 43388\n",
      "sub_sampling_set: 23 length: 43388\n",
      "sub_sampling_set: 24 length: 43388\n",
      "sub_sampling_set: 25 length: 43388\n",
      "sub_sampling_set: 26 length: 43388\n"
     ]
    }
   ],
   "source": [
    "sub_sample = {}\n",
    "neg_train = train[train.target==0]\n",
    "pos_index = train[train.target==1].index\n",
    "for i in range(26):\n",
    "    neg_index = neg_train.sample(n=21694, random_state=88).index\n",
    "    neg_train = neg_train.drop(neg_index)\n",
    "    sub_sample[str(i)] = np.concatenate((pos_index, neg_index))\n",
    "    np.random.shuffle(sub_sample[str(i)])\n",
    "    print('sub_sampling_set: {} length: {}'.format(i+1,len(sub_sample[str(i)])))"
   ]
  },
  {
   "cell_type": "code",
   "execution_count": 18,
   "metadata": {
    "scrolled": true
   },
   "outputs": [
    {
     "ename": "NameError",
     "evalue": "name 'params' is not defined",
     "output_type": "error",
     "traceback": [
      "\u001b[1;31m---------------------------------------------------------------------------\u001b[0m",
      "\u001b[1;31mNameError\u001b[0m                                 Traceback (most recent call last)",
      "\u001b[1;32m<ipython-input-18-57627d67f0be>\u001b[0m in \u001b[0;36m<module>\u001b[1;34m()\u001b[0m\n\u001b[0;32m     28\u001b[0m         \u001b[0mwatchlist\u001b[0m \u001b[1;33m=\u001b[0m \u001b[1;33m[\u001b[0m\u001b[1;33m(\u001b[0m\u001b[0mxg_train\u001b[0m\u001b[1;33m,\u001b[0m \u001b[1;34m'train'\u001b[0m\u001b[1;33m)\u001b[0m\u001b[1;33m,\u001b[0m \u001b[1;33m(\u001b[0m\u001b[0mxg_val\u001b[0m\u001b[1;33m,\u001b[0m \u001b[1;34m'test'\u001b[0m\u001b[1;33m)\u001b[0m\u001b[1;33m]\u001b[0m\u001b[1;33m\u001b[0m\u001b[0m\n\u001b[0;32m     29\u001b[0m         \u001b[1;31m# train xgb\u001b[0m\u001b[1;33m\u001b[0m\u001b[1;33m\u001b[0m\u001b[0m\n\u001b[1;32m---> 30\u001b[1;33m         xgb_skf = xgb.train(params, xg_train, 10000, watchlist, early_stopping_rounds=100\n\u001b[0m\u001b[0;32m     31\u001b[0m                             , feval=gini_xgb, maximize=True, verbose_eval=False)\n\u001b[0;32m     32\u001b[0m         \u001b[0mavg_score\u001b[0m \u001b[1;33m+=\u001b[0m \u001b[0mxgb_skf\u001b[0m\u001b[1;33m.\u001b[0m\u001b[0mbest_score\u001b[0m \u001b[1;33m/\u001b[0m \u001b[0mkfolds\u001b[0m\u001b[1;33m\u001b[0m\u001b[0m\n",
      "\u001b[1;31mNameError\u001b[0m: name 'params' is not defined"
     ]
    }
   ],
   "source": [
    "n_model = len(sub_sample)\n",
    "n_folds = 5\n",
    "oof_train = np.zeros((X.shape[0],))\n",
    "oof_test = np.zeros((test.shape[0],))\n",
    "rest_id = neg_train.index\n",
    "xg_test = xgb.DMatrix(test)\n",
    "xg_rest = xgb.DMatrix(X.iloc[rest_id,:])\n",
    "y0_id = y[train_id][y==0]\n",
    "\n",
    "for i in range(n_model):\n",
    "    train_id = sub_sample[str(i)]\n",
    "    X_train = X.iloc[train_id,:]\n",
    "    y_train = y[train_id]\n",
    "    cross_val = StratifiedKFold(n_splits=n_folds, shuffle=False)\n",
    "    \n",
    "    for i, (train_index, val_index) in enumerate(cross_val.split(X_train, y_train)):\n",
    "\n",
    "        X_tr, X_val = X_train.iloc[train_index], X_train.iloc[val_index,:]\n",
    "        y_tr, y_val = y_train[train_index], y_train[val_index]\n",
    "\n",
    "        y0_id = y_val[y_val==0]\n",
    "        y1_id = y_val[y_val==1]\n",
    "\n",
    "        # Set Var for XGB\n",
    "        xg_train = xgb.DMatrix(X_tr, label=y_tr)\n",
    "        xg_val = xgb.DMatrix(X_val, label=y_val)\n",
    "\n",
    "        watchlist = [(xg_train, 'train'), (xg_val, 'test')]\n",
    "        # train xgb\n",
    "        xgb_skf = xgb.train(params_xgb_depth_5, xg_train, 10000, watchlist, early_stopping_rounds=100\n",
    "                            , feval=gini_xgb, maximize=True, verbose_eval=False)\n",
    "        avg_score += xgb_skf.best_score / kfolds\n",
    "        oof_train[y0_id] = xgb_skf.predict(xg_val)\n",
    "        oof_train[y1_id] += xgb_skf.predict(xg_val) / 26\n",
    "\n",
    "        oof_train[rest_id] = xgb_skf.predict(xg_rest) / 26\n",
    "        oof_test += (xgb_skf.predict(xg_test)/n_folds) / 26\n",
    "\n",
    "        print('[Fold {}/{} Gini score: {}]'.format(i+1, kfolds, xgb_skf.best_score))\n",
    "        print('[Fold {}/{} END]'.format(i+1, kfolds))"
   ]
  },
  {
   "cell_type": "code",
   "execution_count": 10,
   "metadata": {},
   "outputs": [],
   "source": [
    "pd.DataFrame({'xgb_26': oof_test}).to_csv('oof/xgb_26_test', index=False)"
   ]
  },
  {
   "cell_type": "code",
   "execution_count": 18,
   "metadata": {},
   "outputs": [
    {
     "data": {
      "text/plain": [
       "1.0"
      ]
     },
     "execution_count": 18,
     "metadata": {},
     "output_type": "execute_result"
    }
   ],
   "source": [
    "gini.gini_sklearn(y, 1/oof_train)"
   ]
  },
  {
   "cell_type": "code",
   "execution_count": 12,
   "metadata": {},
   "outputs": [
    {
     "data": {
      "text/plain": [
       "array([ 0.54999209,  0.45305779,  0.37963098, ...,  0.31439761,\n",
       "        0.43431498,  0.36190659])"
      ]
     },
     "execution_count": 12,
     "metadata": {},
     "output_type": "execute_result"
    }
   ],
   "source": [
    "oof_train"
   ]
  },
  {
   "cell_type": "code",
   "execution_count": 20,
   "metadata": {},
   "outputs": [
    {
     "data": {
      "text/plain": [
       "26"
      ]
     },
     "execution_count": 20,
     "metadata": {},
     "output_type": "execute_result"
    }
   ],
   "source": [
    "n_model"
   ]
  },
  {
   "cell_type": "code",
   "execution_count": 19,
   "metadata": {},
   "outputs": [
    {
     "data": {
      "text/plain": [
       "array([ 2.15608109,  2.01048091,  2.06000905, ...,  2.56912256,\n",
       "        1.96110485,  2.27790014])"
      ]
     },
     "execution_count": 19,
     "metadata": {},
     "output_type": "execute_result"
    }
   ],
   "source": [
    "oof_test"
   ]
  },
  {
   "cell_type": "code",
   "execution_count": null,
   "metadata": {},
   "outputs": [],
   "source": []
  }
 ],
 "metadata": {
  "kernelspec": {
   "display_name": "Python 3",
   "language": "python",
   "name": "python3"
  },
  "language_info": {
   "codemirror_mode": {
    "name": "ipython",
    "version": 3
   },
   "file_extension": ".py",
   "mimetype": "text/x-python",
   "name": "python",
   "nbconvert_exporter": "python",
   "pygments_lexer": "ipython3",
   "version": "3.6.2"
  }
 },
 "nbformat": 4,
 "nbformat_minor": 2
}
