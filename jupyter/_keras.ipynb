{
 "cells": [
  {
   "cell_type": "code",
   "execution_count": 14,
   "metadata": {
    "collapsed": true
   },
   "outputs": [],
   "source": [
    "from utils import utils, gini\n",
    "from constants import *\n",
    "import os\n",
    "\n",
    "import numpy as np\n",
    "import pandas as pd\n",
    "\n",
    "from sklearn.preprocessing import MinMaxScaler\n",
    "from sklearn.metrics import roc_auc_score, log_loss\n",
    "from sklearn.model_selection import train_test_split\n",
    "from bayes_opt import BayesianOptimization\n",
    "\n",
    "from keras.models import Sequential, Model\n",
    "from keras.layers import Input, Dense, Dropout, Activation\n",
    "from keras.layers.normalization import BatchNormalization\n",
    "from keras.callbacks import EarlyStopping, ModelCheckpoint, Callback, CSVLogger\n",
    "from keras.wrappers.scikit_learn import KerasClassifier\n",
    "\n",
    "MODEL_NAME = 'nn'"
   ]
  },
  {
   "cell_type": "code",
   "execution_count": 10,
   "metadata": {},
   "outputs": [
    {
     "name": "stdout",
     "output_type": "stream",
     "text": [
      "Successfully loaded train and test data\n",
      "Successfully engineer features train and test data\n"
     ]
    }
   ],
   "source": [
    "train, test = utils.load_data()\n",
    "train, test = utils.engineer_features(train, test)"
   ]
  },
  {
   "cell_type": "code",
   "execution_count": 11,
   "metadata": {
    "collapsed": true
   },
   "outputs": [],
   "source": [
    "# Fillna for minmax scaler\n",
    "train = train.fillna(train.median())\n",
    "test = test.fillna(test.median())"
   ]
  },
  {
   "cell_type": "code",
   "execution_count": 12,
   "metadata": {
    "collapsed": true
   },
   "outputs": [],
   "source": [
    "X_train = train.drop(['id', 'target'], axis=1)\n",
    "y_train = train.target\n",
    "X_test = test.drop('id', axis=1)"
   ]
  },
  {
   "cell_type": "code",
   "execution_count": 13,
   "metadata": {
    "collapsed": true
   },
   "outputs": [],
   "source": [
    "scaler = MinMaxScaler()\n",
    "X_train = scaler.fit_transform(X_train)\n",
    "X_test =  scaler.transform(X_test)\n",
    "\n",
    "X_tr, X_val, y_tr, y_val = train_test_split(X_train, y_train, random_state=SEED, test_size=0.2)"
   ]
  },
  {
   "cell_type": "code",
   "execution_count": 30,
   "metadata": {
    "collapsed": true
   },
   "outputs": [],
   "source": [
    "class gini_callback(Callback):\n",
    "    def __init__(self, training_data, validation_data):\n",
    "        self.X_tr = training_data[0]\n",
    "        self.y_tr = training_data[1]\n",
    "        self.X_val = validation_data[0]\n",
    "        self.y_val = validation_data[1]\n",
    "\n",
    "    def on_train_begin(self, logs={}):\n",
    "        return\n",
    "\n",
    "    def on_train_end(self, logs={}):\n",
    "        return\n",
    "\n",
    "    def on_epoch_begin(self, epoch, logs={}):\n",
    "        return\n",
    "\n",
    "    def on_epoch_end(self, epoch, logs={}):\n",
    "        y_pred_tr = self.model.predict_proba(self.X_tr)\n",
    "#         roc = roc_auc_score(self.y_tr, y_pred_tr)\n",
    "#         logs['roc_auc'] = roc\n",
    "#         logs['gini_tr'] = (roc * 2 ) - 1\n",
    "        logs['gini_tr'] = gini.gini_sklearn(self.y_tr, y_pred_tr)\n",
    "\n",
    "        y_pred_val = self.model.predict_proba(self.X_val)\n",
    "#         roc = roc_auc_score(self.y_val, y_pred_val)\n",
    "#         logs['roc_auc_val'] = roc\n",
    "#         logs['gini_val'] = (roc * 2 ) - 1\n",
    "        logs['gini_val'] = gini.gini_sklearn(self.y_val, y_pred_val)\n",
    "\n",
    "\n",
    "        print('Gini Score in training set: {},  test set: {}'.format(logs['gini_tr'], logs['gini_val']))\n",
    "        return\n",
    "\n",
    "    def on_batch_begin(self, batch, logs={}):\n",
    "        return\n",
    "\n",
    "    def on_batch_end(self, batch, logs={}):\n",
    "        return\n",
    "    \n",
    "    \n",
    "# Train Data\n",
    "def create_model():\n",
    "    model = Sequential()\n",
    "    model.add(\n",
    "        Dense(\n",
    "            200,\n",
    "            input_dim=X_tr.shape[1],\n",
    "            kernel_initializer='glorot_normal',\n",
    "            ))\n",
    "    model.add(Activation('relu'))\n",
    "    model.add(BatchNormalization())\n",
    "    model.add(Dropout(0.5))\n",
    "    model.add(Dense(100, kernel_initializer='glorot_normal'))\n",
    "    model.add(Activation('relu'))\n",
    "    model.add(BatchNormalization())\n",
    "    model.add(Dropout(0.25))\n",
    "    model.add(Dense(50, kernel_initializer='glorot_normal'))\n",
    "    model.add(Activation('relu'))\n",
    "    model.add(BatchNormalization())\n",
    "    model.add(Dropout(0.15))\n",
    "    model.add(Dense(25, kernel_initializer='glorot_normal'))\n",
    "    model.add(Activation('relu'))\n",
    "    model.add(BatchNormalization())\n",
    "    model.add(Dropout(0.1))\n",
    "    model.add(Dense(1, activation='sigmoid'))\n",
    "    \n",
    "    # Compile model\n",
    "#     optimizer = SGD(lr=learn_rate, momentum=momentum)\n",
    "\n",
    "    model.compile(optimizer='sgd', metrics = ['accuracy'], loss='binary_crossentropy')\n",
    "    \n",
    "    return model \n",
    "\n",
    "\n",
    "log_path = os.path.join(LOG_PATH, MODEL_NAME + '_log.csv')\n",
    "checkpoint_path = os.path.join(LOG_PATH, MODEL_NAME + '_check.check')"
   ]
  },
  {
   "cell_type": "code",
   "execution_count": 31,
   "metadata": {
    "collapsed": true
   },
   "outputs": [],
   "source": [
    "# epochs = 3\n",
    "# batch_size = 128\n",
    "# patience = 10\n",
    "# ['sgd', 'adam', 'rmsprop', 'adagrad']\n",
    "\n",
    "callbacks = [\n",
    "    gini_callback(training_data=(X_tr, y_tr), validation_data=(X_val, y_val)),\n",
    "    EarlyStopping(monitor='gini_val', patience=patience, mode='max', verbose=1),\n",
    "    CSVLogger(log_path, separator=',', append=False),\n",
    "    ModelCheckpoint(checkpoint_path, monitor='gini_val', mode='max', save_best_only=True, verbose=1)\n",
    "]\n",
    "\n",
    "\n",
    "model = KerasClassifier(build_fn=create_model,\n",
    "                        batch_size=batch_size,\n",
    "                        epochs=int(epochs),\n",
    "                        verbose=99,\n",
    "                        shuffle=True,\n",
    "                        callbacks=callbacks)\n",
    "model.fit(X_tr, y_tr)"
   ]
  },
  {
   "cell_type": "code",
   "execution_count": 42,
   "metadata": {
    "collapsed": true
   },
   "outputs": [],
   "source": [
    "# def kerasbayes(epochs):\n",
    "#     model = KerasClassifier(build_fn=create_model,\n",
    "#                         batch_size=batch_size,\n",
    "#                         epochs=int(epochs),\n",
    "#                         verbose=99,\n",
    "#                         shuffle=True,\n",
    "#                         callbacks=callbacks)\n",
    "#     model.fit(X_tr, y_tr)\n",
    "    \n",
    "#     pred = model.predict_proba(X_val)\n",
    "#     gini_score = gini.gini_sklearn(y_val, pred)\n",
    "    \n",
    "#     return  (-1 * gini_score)\n",
    "\n",
    "# kerasBO = BayesianOptimization(kerasbayes, \n",
    "#                                {'epochs':(1, 5)}\n",
    "#                               )"
   ]
  },
  {
   "cell_type": "code",
   "execution_count": null,
   "metadata": {
    "collapsed": true
   },
   "outputs": [],
   "source": []
  },
  {
   "cell_type": "code",
   "execution_count": null,
   "metadata": {
    "collapsed": true
   },
   "outputs": [],
   "source": []
  }
 ],
 "metadata": {
  "kernelspec": {
   "display_name": "Python 3",
   "language": "python",
   "name": "python3"
  },
  "language_info": {
   "codemirror_mode": {
    "name": "ipython",
    "version": 3
   },
   "file_extension": ".py",
   "mimetype": "text/x-python",
   "name": "python",
   "nbconvert_exporter": "python",
   "pygments_lexer": "ipython3",
   "version": "3.6.2"
  }
 },
 "nbformat": 4,
 "nbformat_minor": 2
}
